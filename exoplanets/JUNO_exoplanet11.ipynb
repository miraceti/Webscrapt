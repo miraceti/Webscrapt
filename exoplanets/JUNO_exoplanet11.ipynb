{
 "cells": [
  {
   "cell_type": "code",
   "execution_count": 1,
   "id": "f8bac89d-98b6-47c9-bff7-c5a097c86ac2",
   "metadata": {},
   "outputs": [],
   "source": [
    "from __future__ import print_function, division\n",
    "from astroquery.ipac.nexsci.nasa_exoplanet_archive import NasaExoplanetArchive\n",
    "\n",
    "from PyAstronomy import pyasl\n",
    "import matplotlib.pylab as plt\n",
    "import pandas as pd"
   ]
  },
  {
   "cell_type": "code",
   "execution_count": 2,
   "id": "8290d81d-dfbb-4aa6-bd5b-c7da455afa4f",
   "metadata": {},
   "outputs": [
    {
     "name": "stdout",
     "output_type": "stream",
     "text": [
      "\n",
      "NEA : TAP_TABLES :\n",
      " ['spectra', 'superwasptimeseries', 'kelttimeseries', 'DI_STARS_EXEP', 'transitspec', 'emissionspec', 'ps', 'pscomppars', 'keplernames', 'k2names', 'ukirttimeseries', 'ml', 'object_aliases', 'k2pandc', 'TD', 'toi']\n"
     ]
    }
   ],
   "source": [
    "#recupearation all planets\n",
    "# exoplanets_table = NasaExoplanetArchive.get_comfirmed_planets_table()\n",
    "\n",
    "#afficher les données des exoplanetes\n",
    "print('\\nNEA : TAP_TABLES :\\n',NasaExoplanetArchive.TAP_TABLES)"
   ]
  },
  {
   "cell_type": "markdown",
   "id": "ed8662b4-e24d-465d-b71a-c2bde89b38f3",
   "metadata": {},
   "source": [
    "The following tables are now accessible by TAP query: \n",
    "Planetary Systems (PS), \n",
    "Planetary Systems Composite Parameters (PSCompPars), \n",
    "Kepler Names (keplernames), \n",
    "K2 Names (k2names), \n",
    "Emission Spectroscopy (emissionspec), \n",
    "Transmission Spectroscopy (transitspec), \n",
    "SuperWASP (superwasptimeseries), \n",
    "KELT (kelttimeseries), \n",
    "KIRT (ukirttimeseries), \n",
    "Object Aliases (formerly Aliases) (object_aliases), \n",
    "Microlensing (ML), \n",
    "SuperWASP (superwasptimeseries), \n",
    "KELT (kelttimeseries), \n",
    "K2 Planets \n",
    "Candidates (k2pandc)."
   ]
  },
  {
   "cell_type": "code",
   "execution_count": 3,
   "id": "d6505dc2-f3d9-41a6-a2a6-83472c039c1a",
   "metadata": {},
   "outputs": [
    {
     "name": "stdout",
     "output_type": "stream",
     "text": [
      "\n",
      "Nombre de lignes :  5566 \n",
      "          pl_name\n",
      "0       11 Com b\n",
      "1       11 UMi b\n",
      "2       14 And b\n",
      "3       14 Her b\n",
      "4     16 Cyg B b\n",
      "...          ...\n",
      "5561   ups And b\n",
      "5562   ups And c\n",
      "5563   ups And d\n",
      "5564   ups Leo b\n",
      "5565    xi Aql b\n",
      "\n",
      "[5566 rows x 1 columns]\n"
     ]
    }
   ],
   "source": [
    "t0 =NasaExoplanetArchive.query_criteria(table=\"pscomppars\", \n",
    "                                        select=\"pl_name\",\n",
    "                                        #,where=\"pl_name like '%Kepler-10 %'\"\n",
    "                                        order =\"pl_name\"\n",
    "                                       )\n",
    "df0= t0.to_pandas()\n",
    "print('\\nNombre de lignes : ',len(df0),'\\n',df0)"
   ]
  },
  {
   "cell_type": "code",
   "execution_count": 10,
   "id": "acd7b522-e803-4773-929c-8be73bfbab06",
   "metadata": {},
   "outputs": [
    {
     "name": "stderr",
     "output_type": "stream",
     "text": [
      "WARNING: column st_lum has a unit but is kept as a MaskedColumn as an attempt to convert it to Quantity failed with:\n",
      "UnitTypeError(\"MaskedQuantity instances require normal units, not <class 'astropy.units.function.logarithmic.DexUnit'> instances.\") [astropy.table.table]\n",
      "WARNING: column st_lumerr1 has a unit but is kept as a MaskedColumn as an attempt to convert it to Quantity failed with:\n",
      "UnitTypeError(\"MaskedQuantity instances require normal units, not <class 'astropy.units.function.logarithmic.DexUnit'> instances.\") [astropy.table.table]\n",
      "WARNING: column st_lumerr2 has a unit but is kept as a MaskedColumn as an attempt to convert it to Quantity failed with:\n",
      "UnitTypeError(\"MaskedQuantity instances require normal units, not <class 'astropy.units.function.logarithmic.DexUnit'> instances.\") [astropy.table.table]\n",
      "WARNING: column st_logg has a unit but is kept as a MaskedColumn as an attempt to convert it to Quantity failed with:\n",
      "UnitTypeError(\"MaskedQuantity instances require normal units, not <class 'astropy.units.function.logarithmic.DexUnit'> instances.\") [astropy.table.table]\n",
      "WARNING: column st_loggerr1 has a unit but is kept as a MaskedColumn as an attempt to convert it to Quantity failed with:\n",
      "UnitTypeError(\"MaskedQuantity instances require normal units, not <class 'astropy.units.function.logarithmic.DexUnit'> instances.\") [astropy.table.table]\n",
      "WARNING: column st_loggerr2 has a unit but is kept as a MaskedColumn as an attempt to convert it to Quantity failed with:\n",
      "UnitTypeError(\"MaskedQuantity instances require normal units, not <class 'astropy.units.function.logarithmic.DexUnit'> instances.\") [astropy.table.table]\n"
     ]
    },
    {
     "name": "stdout",
     "output_type": "stream",
     "text": [
      "\n",
      "Nombre de colonnes :  355 \n",
      " ['ast_flag', 'cb_flag', 'dec', 'decstr', 'default_flag', 'disc_facility', 'disc_instrument', 'disc_locale', 'disc_pubdate', 'disc_refname', 'disc_telescope', 'disc_year', 'discoverymethod', 'dkin_flag', 'elat', 'elon', 'etv_flag', 'gaia_id', 'glat', 'glon', 'hd_name', 'hip_name', 'hostname', 'htm20', 'ima_flag', 'micro_flag', 'obm_flag', 'pl_bmasse', 'pl_bmasseerr1', 'pl_bmasseerr2', 'pl_bmasselim', 'pl_bmassestr', 'pl_bmassj', 'pl_bmassjerr1', 'pl_bmassjerr2', 'pl_bmassjlim', 'pl_bmassjstr', 'pl_bmassprov', 'pl_cmasse', 'pl_cmasseerr1', 'pl_cmasseerr2', 'pl_cmasselim', 'pl_cmassestr', 'pl_cmassj', 'pl_cmassjerr1', 'pl_cmassjerr2', 'pl_cmassjlim', 'pl_cmassjstr', 'pl_controv_flag', 'pl_dens', 'pl_denserr1', 'pl_denserr2', 'pl_denslim', 'pl_densstr', 'pl_eqt', 'pl_eqterr1', 'pl_eqterr2', 'pl_eqtlim', 'pl_eqtstr', 'pl_imppar', 'pl_impparerr1', 'pl_impparerr2', 'pl_impparlim', 'pl_impparstr', 'pl_insol', 'pl_insolerr1', 'pl_insolerr2', 'pl_insollim', 'pl_insolstr', 'pl_letter', 'pl_masse', 'pl_masseerr1', 'pl_masseerr2', 'pl_masselim', 'pl_massestr', 'pl_massj', 'pl_massjerr1', 'pl_massjerr2', 'pl_massjlim', 'pl_massjstr', 'pl_msinie', 'pl_msinieerr1', 'pl_msinieerr2', 'pl_msinielim', 'pl_msiniestr', 'pl_msinij', 'pl_msinijerr1', 'pl_msinijerr2', 'pl_msinijlim', 'pl_msinijstr', 'pl_name', 'pl_nespec', 'pl_nnotes', 'pl_ntranspec', 'pl_occdep', 'pl_occdeperr1', 'pl_occdeperr2', 'pl_occdeplim', 'pl_occdepstr', 'pl_orbeccen', 'pl_orbeccenerr1', 'pl_orbeccenerr2', 'pl_orbeccenlim', 'pl_orbeccenstr', 'pl_orbincl', 'pl_orbinclerr1', 'pl_orbinclerr2', 'pl_orbincllim', 'pl_orbinclstr', 'pl_orblper', 'pl_orblpererr1', 'pl_orblpererr2', 'pl_orblperlim', 'pl_orblperstr', 'pl_orbper', 'pl_orbpererr1', 'pl_orbpererr2', 'pl_orbperlim', 'pl_orbperstr', 'pl_orbsmax', 'pl_orbsmaxerr1', 'pl_orbsmaxerr2', 'pl_orbsmaxlim', 'pl_orbsmaxstr', 'pl_orbtper', 'pl_orbtpererr1', 'pl_orbtpererr2', 'pl_orbtperlim', 'pl_orbtperstr', 'pl_projobliq', 'pl_projobliqerr1', 'pl_projobliqerr2', 'pl_projobliqlim', 'pl_projobliqstr', 'pl_pubdate', 'pl_rade', 'pl_radeerr1', 'pl_radeerr2', 'pl_radelim', 'pl_radestr', 'pl_radj', 'pl_radjerr1', 'pl_radjerr2', 'pl_radjlim', 'pl_radjstr', 'pl_ratdor', 'pl_ratdorerr1', 'pl_ratdorerr2', 'pl_ratdorlim', 'pl_ratdorstr', 'pl_ratror', 'pl_ratrorerr1', 'pl_ratrorerr2', 'pl_ratrorlim', 'pl_ratrorstr', 'pl_refname', 'pl_rvamp', 'pl_rvamperr1', 'pl_rvamperr2', 'pl_rvamplim', 'pl_rvampstr', 'pl_trandep', 'pl_trandeperr1', 'pl_trandeperr2', 'pl_trandeplim', 'pl_trandepstr', 'pl_trandur', 'pl_trandurerr1', 'pl_trandurerr2', 'pl_trandurlim', 'pl_trandurstr', 'pl_tranmid', 'pl_tranmiderr1', 'pl_tranmiderr2', 'pl_tranmidlim', 'pl_tranmidstr', 'pl_trueobliq', 'pl_trueobliqerr1', 'pl_trueobliqerr2', 'pl_trueobliqlim', 'pl_trueobliqstr', 'pl_tsystemref', 'ptv_flag', 'pul_flag', 'ra', 'rastr', 'releasedate', 'rowupdate', 'rv_flag', 'sky_coord.dec', 'sky_coord.ra', 'soltype', 'st_age', 'st_ageerr1', 'st_ageerr2', 'st_agelim', 'st_agestr', 'st_dens', 'st_denserr1', 'st_denserr2', 'st_denslim', 'st_densstr', 'st_logg', 'st_loggerr1', 'st_loggerr2', 'st_logglim', 'st_loggstr', 'st_lum', 'st_lumerr1', 'st_lumerr2', 'st_lumlim', 'st_lumstr', 'st_mass', 'st_masserr1', 'st_masserr2', 'st_masslim', 'st_massstr', 'st_met', 'st_meterr1', 'st_meterr2', 'st_metlim', 'st_metratio', 'st_metstr', 'st_nphot', 'st_nrvc', 'st_nspec', 'st_rad', 'st_raderr1', 'st_raderr2', 'st_radlim', 'st_radstr', 'st_radv', 'st_radverr1', 'st_radverr2', 'st_radvlim', 'st_radvstr', 'st_refname', 'st_rotp', 'st_rotperr1', 'st_rotperr2', 'st_rotplim', 'st_rotpstr', 'st_spectype', 'st_teff', 'st_tefferr1', 'st_tefferr2', 'st_tefflim', 'st_teffstr', 'st_vsin', 'st_vsinerr1', 'st_vsinerr2', 'st_vsinlim', 'st_vsinstr', 'sy_bmag', 'sy_bmagerr1', 'sy_bmagerr2', 'sy_bmagstr', 'sy_dist', 'sy_disterr1', 'sy_disterr2', 'sy_diststr', 'sy_gaiamag', 'sy_gaiamagerr1', 'sy_gaiamagerr2', 'sy_gaiamagstr', 'sy_gmag', 'sy_gmagerr1', 'sy_gmagerr2', 'sy_gmagstr', 'sy_hmag', 'sy_hmagerr1', 'sy_hmagerr2', 'sy_hmagstr', 'sy_icmag', 'sy_icmagerr1', 'sy_icmagerr2', 'sy_icmagstr', 'sy_imag', 'sy_imagerr1', 'sy_imagerr2', 'sy_imagstr', 'sy_jmag', 'sy_jmagerr1', 'sy_jmagerr2', 'sy_jmagstr', 'sy_kepmag', 'sy_kepmagerr1', 'sy_kepmagerr2', 'sy_kepmagstr', 'sy_kmag', 'sy_kmagerr1', 'sy_kmagerr2', 'sy_kmagstr', 'sy_mnum', 'sy_plx', 'sy_plxerr1', 'sy_plxerr2', 'sy_plxstr', 'sy_pm', 'sy_pmdec', 'sy_pmdecerr1', 'sy_pmdecerr2', 'sy_pmdecstr', 'sy_pmerr1', 'sy_pmerr2', 'sy_pmra', 'sy_pmraerr1', 'sy_pmraerr2', 'sy_pmrastr', 'sy_pmstr', 'sy_pnum', 'sy_refname', 'sy_rmag', 'sy_rmagerr1', 'sy_rmagerr2', 'sy_rmagstr', 'sy_snum', 'sy_tmag', 'sy_tmagerr1', 'sy_tmagerr2', 'sy_tmagstr', 'sy_umag', 'sy_umagerr1', 'sy_umagerr2', 'sy_umagstr', 'sy_vmag', 'sy_vmagerr1', 'sy_vmagerr2', 'sy_vmagstr', 'sy_w1mag', 'sy_w1magerr1', 'sy_w1magerr2', 'sy_w1magstr', 'sy_w2mag', 'sy_w2magerr1', 'sy_w2magerr2', 'sy_w2magstr', 'sy_w3mag', 'sy_w3magerr1', 'sy_w3magerr2', 'sy_w3magstr', 'sy_w4mag', 'sy_w4magerr1', 'sy_w4magerr2', 'sy_w4magstr', 'sy_zmag', 'sy_zmagerr1', 'sy_zmagerr2', 'sy_zmagstr', 'tic_id', 'tran_flag', 'ttv_flag', 'x', 'y', 'z'] \n",
      "Nombre de lignes : \n",
      " 10 \n",
      "         pl_name pl_letter    hostname    hd_name    hip_name         tic_id  \\\n",
      "0  OGLE-TR-10 b         b  OGLE-TR-10                         TIC 130150682   \n",
      "1      55 Cnc e         e      55 Cnc   HD 75732   HIP 43587  TIC 332064670   \n",
      "2  BD-08 2823 b         b  BD-08 2823              HIP 49067   TIC 33355302   \n",
      "3  BD-08 2823 c         c  BD-08 2823              HIP 49067   TIC 33355302   \n",
      "4     HR 8799 c         c     HR 8799  HD 218396  HIP 114189  TIC 245368902   \n",
      "5   HD 104985 b         b   HD 104985  HD 104985   HIP 58952  TIC 160224839   \n",
      "6       4 UMa b         b       4 UMa   HD 73108   HIP 42527  TIC 356478817   \n",
      "7   HD 104985 b         b   HD 104985  HD 104985   HIP 58952  TIC 160224839   \n",
      "8     kap CrB b         b     kap CrB  HD 142091   HIP 77655  TIC 334753043   \n",
      "9     kap CrB b         b     kap CrB  HD 142091   HIP 77655  TIC 334753043   \n",
      "\n",
      "                        gaia_id  default_flag  \\\n",
      "0  Gaia DR2 4056443366649948160             1   \n",
      "1   Gaia DR2 704967037090946688             0   \n",
      "2  Gaia DR2 3770419611540574080             0   \n",
      "3  Gaia DR2 3770419611540574080             1   \n",
      "4  Gaia DR2 2832463659640297472             1   \n",
      "5  Gaia DR2 1693159194226600192             0   \n",
      "6  Gaia DR2 1092230803510960640             0   \n",
      "7  Gaia DR2 1693159194226600192             0   \n",
      "8  Gaia DR2 1372702716380418688             0   \n",
      "9  Gaia DR2 1372702716380418688             0   \n",
      "\n",
      "                                          pl_refname  \\\n",
      "0  <a refstr=TORRES_ET_AL__2008 href=https://ui.a...   \n",
      "1  <a refstr=MCARTHUR_ET_AL__2004 href=https://ui...   \n",
      "2  <a refstr=HEBRARD_ET_AL__2010 href=https://ui....   \n",
      "3  <a refstr=HEBRARD_ET_AL__2010 href=https://ui....   \n",
      "4  <a refstr=MAROIS_ET_AL__2008 href=https://ui.a...   \n",
      "5  <a refstr=SATO_ET_AL__2003 href=https://ui.ads...   \n",
      "6  <a refstr=DOLLINGER_ET_AL__2007 href=https://u...   \n",
      "7  <a refstr=SATO_ET_AL__2008 href=https://ui.ads...   \n",
      "8  <a refstr=BAINES_ET_AL__2013 href=https://ui.a...   \n",
      "9  <a refstr=BAINES_ET_AL__2013 href=https://ui.a...   \n",
      "\n",
      "                                          sy_refname  ...          sy_jmagstr  \\\n",
      "0  <a refstr=STASSUN_ET_AL__2019 href=https://ui....  ...              13.692   \n",
      "1  <a refstr=STASSUN_ET_AL__2019 href=https://ui....  ...  4.768&plusmn;0.244   \n",
      "2  <a refstr=STASSUN_ET_AL__2019 href=https://ui....  ...    7.96&plusmn;0.02   \n",
      "3  <a refstr=STASSUN_ET_AL__2019 href=https://ui....  ...    7.96&plusmn;0.02   \n",
      "4  <a refstr=STASSUN_ET_AL__2019 href=https://ui....  ...  5.383&plusmn;0.027   \n",
      "5  <a refstr=STASSUN_ET_AL__2019 href=https://ui....  ...  4.112&plusmn;0.226   \n",
      "6  <a refstr=STASSUN_ET_AL__2019 href=https://ui....  ...  2.619&plusmn;0.290   \n",
      "7  <a refstr=STASSUN_ET_AL__2019 href=https://ui....  ...  4.112&plusmn;0.226   \n",
      "8  <a refstr=STASSUN_ET_AL__2019 href=https://ui....  ...  3.035&plusmn;0.184   \n",
      "9  <a refstr=STASSUN_ET_AL__2019 href=https://ui....  ...  3.035&plusmn;0.184   \n",
      "\n",
      "   sy_hmag sy_hmagerr1 sy_hmagerr2           sy_hmagstr sy_kmag sy_kmagerr1  \\\n",
      "0   13.314       0.121      -0.121  13.314&plusmn;0.121  12.856         NaN   \n",
      "1    4.265       0.234      -0.234   4.265&plusmn;0.234   4.015       0.036   \n",
      "2    7.498       0.047      -0.047   7.498&plusmn;0.047   7.323       0.021   \n",
      "3    7.498       0.047      -0.047   7.498&plusmn;0.047   7.323       0.021   \n",
      "4    5.280       0.018      -0.018   5.280&plusmn;0.018   5.240       0.018   \n",
      "5    3.547       0.194      -0.194   3.547&plusmn;0.194   3.274       0.304   \n",
      "6    2.021       0.186      -0.186   2.021&plusmn;0.186   1.734       0.218   \n",
      "7    3.547       0.194      -0.194   3.547&plusmn;0.194   3.274       0.304   \n",
      "8    2.575       0.180      -0.180   2.575&plusmn;0.180   2.423       0.242   \n",
      "9    2.575       0.180      -0.180   2.575&plusmn;0.180   2.423       0.242   \n",
      "\n",
      "  sy_kmagerr2  sky_coord.ra sky_coord.dec  \n",
      "0         NaN    267.867748    -29.876476  \n",
      "1      -0.036    133.146837     28.329815  \n",
      "2      -0.021    150.197196     -9.516569  \n",
      "3      -0.021    150.197196     -9.516569  \n",
      "4      -0.018    346.870149     21.134038  \n",
      "5      -0.304    181.315785     76.905336  \n",
      "6      -0.218    130.052810     64.328050  \n",
      "7      -0.304    181.315785     76.905336  \n",
      "8      -0.242    237.808001     35.655882  \n",
      "9      -0.242    237.808001     35.655882  \n",
      "\n",
      "[10 rows x 355 columns]\n"
     ]
    }
   ],
   "source": [
    "t1 =NasaExoplanetArchive.query_criteria(table=\"ps\", select=\"top 10 *\")\n",
    "df1 = t1.to_pandas()\n",
    "colons = df1.columns.tolist()\n",
    "colonst = colons.sort()\n",
    "print('\\nNombre de colonnes : ',len(colons),'\\n', colons,'\\nNombre de lignes : \\n',len(df1),'\\n',df1)"
   ]
  },
  {
   "cell_type": "code",
   "execution_count": 4,
   "id": "060f722f-79f3-4c6b-b078-39980be2b554",
   "metadata": {},
   "outputs": [
    {
     "name": "stdout",
     "output_type": "stream",
     "text": [
      "\n",
      "Nombre de lignes :  5566 \n",
      "          pl_name\n",
      "0       11 Com b\n",
      "1       11 UMi b\n",
      "2       14 And b\n",
      "3       14 Her b\n",
      "4     16 Cyg B b\n",
      "...          ...\n",
      "5561   ups And b\n",
      "5562   ups And c\n",
      "5563   ups And d\n",
      "5564   ups Leo b\n",
      "5565    xi Aql b\n",
      "\n",
      "[5566 rows x 1 columns]\n"
     ]
    }
   ],
   "source": [
    "t2 =NasaExoplanetArchive.query_criteria(table=\"ps\", \n",
    "                                        select=\"distinct pl_name\",\n",
    "                                        #,where=\"pl_name like '%Kepler-10 %'\"\n",
    "                                        order =\"pl_name\"\n",
    "                                       )\n",
    "df2= t2.to_pandas()\n",
    "print('\\nNombre de lignes : ',len(df2),'\\n',df2)"
   ]
  },
  {
   "cell_type": "code",
   "execution_count": 4,
   "id": "956af160-eab8-4f0b-a953-b1e1641aeee0",
   "metadata": {},
   "outputs": [
    {
     "name": "stdout",
     "output_type": "stream",
     "text": [
      "\n",
      "Nombre de colonnes :  375 \n",
      " ['ast_flag', 'cb_flag', 'dec', 'decstr', 'disc_facility', 'disc_instrument', 'disc_locale', 'disc_pubdate', 'disc_refname', 'disc_telescope', 'disc_year', 'discoverymethod', 'dkin_flag', 'elat', 'elon', 'etv_flag', 'gaia_id', 'glat', 'glon', 'hd_name', 'hip_name', 'hostname', 'htm20', 'ima_flag', 'micro_flag', 'obm_flag', 'pl_bmasse', 'pl_bmasse_reflink', 'pl_bmasseerr1', 'pl_bmasseerr2', 'pl_bmasselim', 'pl_bmassestr', 'pl_bmassj', 'pl_bmassj_reflink', 'pl_bmassjerr1', 'pl_bmassjerr2', 'pl_bmassjlim', 'pl_bmassjstr', 'pl_bmassprov', 'pl_controv_flag', 'pl_dens', 'pl_dens_reflink', 'pl_denserr1', 'pl_denserr2', 'pl_denslim', 'pl_densstr', 'pl_eqt', 'pl_eqt_reflink', 'pl_eqterr1', 'pl_eqterr2', 'pl_eqtlim', 'pl_eqtstr', 'pl_imppar', 'pl_imppar_reflink', 'pl_impparerr1', 'pl_impparerr2', 'pl_impparlim', 'pl_impparstr', 'pl_insol', 'pl_insol_reflink', 'pl_insolerr1', 'pl_insolerr2', 'pl_insollim', 'pl_insolstr', 'pl_letter', 'pl_name', 'pl_nespec', 'pl_nnotes', 'pl_ntranspec', 'pl_occdep', 'pl_occdep_reflink', 'pl_occdeperr1', 'pl_occdeperr2', 'pl_occdeplim', 'pl_occdepstr', 'pl_orbeccen', 'pl_orbeccen_reflink', 'pl_orbeccenerr1', 'pl_orbeccenerr2', 'pl_orbeccenlim', 'pl_orbeccenstr', 'pl_orbincl', 'pl_orbincl_reflink', 'pl_orbinclerr1', 'pl_orbinclerr2', 'pl_orbincllim', 'pl_orbinclstr', 'pl_orblper', 'pl_orblper_reflink', 'pl_orblpererr1', 'pl_orblpererr2', 'pl_orblperlim', 'pl_orblperstr', 'pl_orbper', 'pl_orbper_reflink', 'pl_orbpererr1', 'pl_orbpererr2', 'pl_orbperlim', 'pl_orbperstr', 'pl_orbsmax', 'pl_orbsmax_reflink', 'pl_orbsmaxerr1', 'pl_orbsmaxerr2', 'pl_orbsmaxlim', 'pl_orbsmaxstr', 'pl_orbtper', 'pl_orbtper_reflink', 'pl_orbtper_systemref', 'pl_orbtpererr1', 'pl_orbtpererr2', 'pl_orbtperlim', 'pl_orbtperstr', 'pl_projobliq', 'pl_projobliq_reflink', 'pl_projobliqerr1', 'pl_projobliqerr2', 'pl_projobliqlim', 'pl_projobliqstr', 'pl_rade', 'pl_rade_reflink', 'pl_radeerr1', 'pl_radeerr2', 'pl_radelim', 'pl_radestr', 'pl_radj', 'pl_radj_reflink', 'pl_radjerr1', 'pl_radjerr2', 'pl_radjlim', 'pl_radjstr', 'pl_ratdor', 'pl_ratdor_reflink', 'pl_ratdorerr1', 'pl_ratdorerr2', 'pl_ratdorlim', 'pl_ratdorstr', 'pl_ratror', 'pl_ratror_reflink', 'pl_ratrorerr1', 'pl_ratrorerr2', 'pl_ratrorlim', 'pl_ratrorstr', 'pl_rvamp', 'pl_rvamp_reflink', 'pl_rvamperr1', 'pl_rvamperr2', 'pl_rvamplim', 'pl_rvampstr', 'pl_trandep', 'pl_trandep_reflink', 'pl_trandeperr1', 'pl_trandeperr2', 'pl_trandeplim', 'pl_trandepstr', 'pl_trandur', 'pl_trandur_reflink', 'pl_trandurerr1', 'pl_trandurerr2', 'pl_trandurlim', 'pl_trandurstr', 'pl_tranmid', 'pl_tranmid_reflink', 'pl_tranmid_systemref', 'pl_tranmiderr1', 'pl_tranmiderr2', 'pl_tranmidlim', 'pl_tranmidstr', 'pl_trueobliq', 'pl_trueobliq_reflink', 'pl_trueobliqerr1', 'pl_trueobliqerr2', 'pl_trueobliqlim', 'pl_trueobliqstr', 'ptv_flag', 'pul_flag', 'ra', 'ra_reflink', 'rastr', 'rv_flag', 'sky_coord.dec', 'sky_coord.ra', 'st_age', 'st_age_reflink', 'st_ageerr1', 'st_ageerr2', 'st_agelim', 'st_agestr', 'st_dens', 'st_dens_reflink', 'st_denserr1', 'st_denserr2', 'st_denslim', 'st_densstr', 'st_logg', 'st_logg_reflink', 'st_loggerr1', 'st_loggerr2', 'st_logglim', 'st_loggstr', 'st_lum', 'st_lum_reflink', 'st_lumerr1', 'st_lumerr2', 'st_lumlim', 'st_lumstr', 'st_mass', 'st_mass_reflink', 'st_masserr1', 'st_masserr2', 'st_masslim', 'st_massstr', 'st_met', 'st_met_reflink', 'st_meterr1', 'st_meterr2', 'st_metlim', 'st_metratio', 'st_metstr', 'st_nphot', 'st_nrvc', 'st_nspec', 'st_rad', 'st_rad_reflink', 'st_raderr1', 'st_raderr2', 'st_radlim', 'st_radstr', 'st_radv', 'st_radv_reflink', 'st_radverr1', 'st_radverr2', 'st_radvlim', 'st_radvstr', 'st_rotp', 'st_rotp_reflink', 'st_rotperr1', 'st_rotperr2', 'st_rotplim', 'st_rotpstr', 'st_spectype', 'st_spectype_reflink', 'st_teff', 'st_teff_reflink', 'st_tefferr1', 'st_tefferr2', 'st_tefflim', 'st_teffstr', 'st_vsin', 'st_vsin_reflink', 'st_vsinerr1', 'st_vsinerr2', 'st_vsinlim', 'st_vsinstr', 'sy_bmag', 'sy_bmag_reflink', 'sy_bmagerr1', 'sy_bmagerr2', 'sy_bmagstr', 'sy_dist', 'sy_dist_reflink', 'sy_disterr1', 'sy_disterr2', 'sy_diststr', 'sy_gaiamag', 'sy_gaiamag_reflink', 'sy_gaiamagerr1', 'sy_gaiamagerr2', 'sy_gaiamagstr', 'sy_gmag', 'sy_gmag_reflink', 'sy_gmagerr1', 'sy_gmagerr2', 'sy_gmagstr', 'sy_hmag', 'sy_hmag_reflink', 'sy_hmagerr1', 'sy_hmagerr2', 'sy_hmagstr', 'sy_icmag', 'sy_icmag_reflink', 'sy_icmagerr1', 'sy_icmagerr2', 'sy_icmagstr', 'sy_imag', 'sy_imag_reflink', 'sy_imagerr1', 'sy_imagerr2', 'sy_imagstr', 'sy_jmag', 'sy_jmag_reflink', 'sy_jmagerr1', 'sy_jmagerr2', 'sy_jmagstr', 'sy_kepmag', 'sy_kepmag_reflink', 'sy_kepmagerr1', 'sy_kepmagerr2', 'sy_kepmagstr', 'sy_kmag', 'sy_kmag_reflink', 'sy_kmagerr1', 'sy_kmagerr2', 'sy_kmagstr', 'sy_mnum', 'sy_plx', 'sy_plx_reflink', 'sy_plxerr1', 'sy_plxerr2', 'sy_plxstr', 'sy_pm', 'sy_pm_reflink', 'sy_pmdec', 'sy_pmdecerr1', 'sy_pmdecerr2', 'sy_pmdecstr', 'sy_pmerr1', 'sy_pmerr2', 'sy_pmra', 'sy_pmraerr1', 'sy_pmraerr2', 'sy_pmrastr', 'sy_pmstr', 'sy_pnum', 'sy_rmag', 'sy_rmag_reflink', 'sy_rmagerr1', 'sy_rmagerr2', 'sy_rmagstr', 'sy_snum', 'sy_tmag', 'sy_tmag_reflink', 'sy_tmagerr1', 'sy_tmagerr2', 'sy_tmagstr', 'sy_umag', 'sy_umag_reflink', 'sy_umagerr1', 'sy_umagerr2', 'sy_umagstr', 'sy_vmag', 'sy_vmag_reflink', 'sy_vmagerr1', 'sy_vmagerr2', 'sy_vmagstr', 'sy_w1mag', 'sy_w1mag_reflink', 'sy_w1magerr1', 'sy_w1magerr2', 'sy_w1magstr', 'sy_w2mag', 'sy_w2mag_reflink', 'sy_w2magerr1', 'sy_w2magerr2', 'sy_w2magstr', 'sy_w3mag', 'sy_w3mag_reflink', 'sy_w3magerr1', 'sy_w3magerr2', 'sy_w3magstr', 'sy_w4mag', 'sy_w4mag_reflink', 'sy_w4magerr1', 'sy_w4magerr2', 'sy_w4magstr', 'sy_zmag', 'sy_zmag_reflink', 'sy_zmagerr1', 'sy_zmagerr2', 'sy_zmagstr', 'tic_id', 'tran_flag', 'ttv_flag', 'x', 'y', 'z'] \n",
      "Nombre de lignes : \n",
      " 10 \n",
      "                  pl_name pl_letter             hostname    hd_name   hip_name  \\\n",
      "0  OGLE-2016-BLG-1227L b         b  OGLE-2016-BLG-1227L                         \n",
      "1           Kepler-276 c         c           Kepler-276                         \n",
      "2           Kepler-829 b         b           Kepler-829                         \n",
      "3               K2-283 b         b               K2-283                         \n",
      "4           Kepler-477 b         b           Kepler-477                         \n",
      "5             TOI-1260 c         c             TOI-1260                         \n",
      "6            HD 149143 b         b            HD 149143  HD 149143  HIP 81022   \n",
      "7             HD 99492 b         b             HD 99492   HD 99492  HIP 55848   \n",
      "8               nu Oph c         c               nu Oph  HD 163917  HIP 88048   \n",
      "9               75 Cet b         b               75 Cet   HD 15779  HIP 11791   \n",
      "\n",
      "          tic_id disc_pubdate  disc_year  discoverymethod disc_locale  ...  \\\n",
      "0                     2020-03       2020     Microlensing      Ground  ...   \n",
      "1  TIC 138213510      2014-02       2013          Transit       Space  ...   \n",
      "2  TIC 123451768      2016-05       2016          Transit       Space  ...   \n",
      "3  TIC 266017624      2018-12       2018          Transit       Space  ...   \n",
      "4  TIC 158633329      2016-05       2016          Transit       Space  ...   \n",
      "5  TIC 355867695      2021-08       2021          Transit       Space  ...   \n",
      "6  TIC 281520119      2006-02       2005  Radial Velocity      Ground  ...   \n",
      "7  TIC 363549734      2005-01       2004  Radial Velocity      Ground  ...   \n",
      "8    TIC 9815387      2012-12       2012  Radial Velocity      Ground  ...   \n",
      "9  TIC 251095345      2012-12       2012  Radial Velocity      Ground  ...   \n",
      "\n",
      "     sy_pmra sy_pmraerr1 sy_pmraerr2                     sy_pmrastr         x  \\\n",
      "0        NaN         NaN         NaN                                -0.063824   \n",
      "1    7.99553    0.051581   -0.051581     7.9955300&plusmn;0.0515805  0.310575   \n",
      "2    7.93777    0.040833   -0.040833     7.9377700&plusmn;0.0408326  0.157566   \n",
      "3  -10.97340    0.053624   -0.053624   -10.9734000&plusmn;0.0536244  0.959702   \n",
      "4  -26.00000         NaN         NaN                          -26.0  0.229185   \n",
      "5 -177.23600    0.036921   -0.036921  -177.2360000&plusmn;0.0369214 -0.376942   \n",
      "6   -9.32815    0.115035   -0.115035      -9.328150&plusmn;0.115035 -0.370917   \n",
      "7 -728.27700    0.587701   -0.587701    -728.277000&plusmn;0.587701 -0.988137   \n",
      "8  -10.00000    8.000000   -8.000000               -10.0&plusmn;8.0 -0.004186   \n",
      "9  -23.61930    0.197124   -0.197124     -23.619300&plusmn;0.197124  0.787461   \n",
      "\n",
      "          y         z       htm20  sky_coord.ra  sky_coord.dec  \n",
      "0 -0.828921 -0.555712  -768415656    265.597125     -33.759778  \n",
      "1 -0.711954  0.629813  1302657699    293.568197      39.036312  \n",
      "2 -0.720680  0.675124  -792260935    282.332831      42.463813  \n",
      "3  0.224997  0.168368   609813555     13.194368       9.692918  \n",
      "4 -0.702544  0.673726 -1968935374    288.067445      42.355305  \n",
      "5  0.158885  0.912507  -454174731    157.144071      65.854199  \n",
      "6 -0.927954  0.036373  1058654934    248.212671       2.084455  \n",
      "7  0.144335  0.052460  1625330463    171.689687       3.007133  \n",
      "8 -0.985476 -0.169765   953920305    269.756601      -9.774134  \n",
      "9  0.616099 -0.018064 -1242211277     38.039160      -1.035027  \n",
      "\n",
      "[10 rows x 375 columns]\n"
     ]
    },
    {
     "name": "stderr",
     "output_type": "stream",
     "text": [
      "WARNING: column st_lum has a unit but is kept as a MaskedColumn as an attempt to convert it to Quantity failed with:\n",
      "UnitTypeError(\"MaskedQuantity instances require normal units, not <class 'astropy.units.function.logarithmic.DexUnit'> instances.\") [astropy.table.table]\n",
      "WARNING: column st_lumerr1 has a unit but is kept as a MaskedColumn as an attempt to convert it to Quantity failed with:\n",
      "UnitTypeError(\"MaskedQuantity instances require normal units, not <class 'astropy.units.function.logarithmic.DexUnit'> instances.\") [astropy.table.table]\n",
      "WARNING: column st_lumerr2 has a unit but is kept as a MaskedColumn as an attempt to convert it to Quantity failed with:\n",
      "UnitTypeError(\"MaskedQuantity instances require normal units, not <class 'astropy.units.function.logarithmic.DexUnit'> instances.\") [astropy.table.table]\n",
      "WARNING: column st_logg has a unit but is kept as a MaskedColumn as an attempt to convert it to Quantity failed with:\n",
      "UnitTypeError(\"MaskedQuantity instances require normal units, not <class 'astropy.units.function.logarithmic.DexUnit'> instances.\") [astropy.table.table]\n",
      "WARNING: column st_loggerr1 has a unit but is kept as a MaskedColumn as an attempt to convert it to Quantity failed with:\n",
      "UnitTypeError(\"MaskedQuantity instances require normal units, not <class 'astropy.units.function.logarithmic.DexUnit'> instances.\") [astropy.table.table]\n",
      "WARNING: column st_loggerr2 has a unit but is kept as a MaskedColumn as an attempt to convert it to Quantity failed with:\n",
      "UnitTypeError(\"MaskedQuantity instances require normal units, not <class 'astropy.units.function.logarithmic.DexUnit'> instances.\") [astropy.table.table]\n"
     ]
    }
   ],
   "source": [
    "t3 =NasaExoplanetArchive.query_criteria(table=\"pscomppars\", select=\"top 10 *\")\n",
    "df3 = t3.to_pandas()\n",
    "colons = df3.columns.tolist()\n",
    "colonst = colons.sort()\n",
    "print('\\nNombre de colonnes : ',len(colons),'\\n', colons,'\\nNombre de lignes : \\n',len(df3),'\\n',df3)\n"
   ]
  },
  {
   "cell_type": "code",
   "execution_count": 5,
   "id": "e622803a-4642-4da0-af60-a35f16c6ca7c",
   "metadata": {},
   "outputs": [
    {
     "name": "stdout",
     "output_type": "stream",
     "text": [
      "\n",
      "Nombre de lignes :  3 \n",
      "        pl_name  discoverymethod  disc_year  pl_bmasse\n",
      "0  Kepler-10 d  Radial Velocity       2023      12.68\n",
      "1  Kepler-10 c          Transit       2011      11.40\n",
      "2  Kepler-10 b          Transit       2011       3.26\n"
     ]
    }
   ],
   "source": [
    "t4 =NasaExoplanetArchive.query_criteria(table=\"pscomppars\", \n",
    "                                        select=\"pl_name,discoverymethod,disc_year,pl_bmasse\"\n",
    "                                        ,where=\"pl_name like '%Kepler-10 %'\"\n",
    "                                       )\n",
    "df4= t4.to_pandas()\n",
    "print('\\nNombre de lignes : ',len(df4),'\\n',df4)"
   ]
  },
  {
   "cell_type": "code",
   "execution_count": 24,
   "id": "edaf9ea5-0512-4835-b294-df93a227cfcc",
   "metadata": {},
   "outputs": [
    {
     "name": "stdout",
     "output_type": "stream",
     "text": [
      "\n",
      "Nombre de lignes : \n",
      " 11 \n",
      "                   discoverymethod\n",
      "0       Transit Timing Variations\n",
      "1                 Radial Velocity\n",
      "2                         Transit\n",
      "3   Orbital Brightness Modulation\n",
      "4                 Disk Kinematics\n",
      "5       Eclipse Timing Variations\n",
      "6     Pulsation Timing Variations\n",
      "7                      Astrometry\n",
      "8                         Imaging\n",
      "9                    Microlensing\n",
      "10                  Pulsar Timing\n"
     ]
    }
   ],
   "source": [
    "t5 =NasaExoplanetArchive.query_criteria(table=\"pscomppars\", \n",
    "                                        select=\" distinct discoverymethod\"\n",
    "                                        #,where=\"discoverymethod like '%imagi%'\"\n",
    "                                       )\n",
    "df5= t5.to_pandas()\n",
    "print('\\nNombre de lignes : ',len(df5),'\\n',df5)"
   ]
  },
  {
   "cell_type": "code",
   "execution_count": 6,
   "id": "2b9ab866-8e67-430c-821b-11929b768873",
   "metadata": {},
   "outputs": [
    {
     "name": "stdout",
     "output_type": "stream",
     "text": [
      "\n",
      "Nombre de lignes :  69 \n",
      "                       pl_name discoverymethod  disc_year   pl_bmasse\n",
      "0                    AF Lep b         Imaging       2023  1017.05090\n",
      "1                 HD 169142 b         Imaging       2023   953.48522\n",
      "2               HIP 81208 C b         Imaging       2023  4703.86042\n",
      "3                 HIP 99770 b         Imaging       2023  5117.03735\n",
      "4                   MWC 758 c         Imaging       2023         NaN\n",
      "..                        ...             ...        ...         ...\n",
      "64                   Oph 11 b         Imaging       2006  4449.62000\n",
      "65                   AB Pic b         Imaging       2005  4290.50000\n",
      "66  2MASS J12073346-3932539 b         Imaging       2004  1589.15000\n",
      "67                   DH Tau b         Imaging       2004  3496.00000\n",
      "68                   GQ Lup b         Imaging       2004  6356.00000\n",
      "\n",
      "[69 rows x 4 columns]\n"
     ]
    }
   ],
   "source": [
    "t6 =NasaExoplanetArchive.query_criteria(table=\"pscomppars\", \n",
    "                                        select=\" distinct pl_name,discoverymethod,disc_year,pl_bmasse\"\n",
    "                                        ,where=\"discoverymethod like '%Imag%'\"\n",
    "                                        ,order=\"disc_year desc\"\n",
    "                                       )\n",
    "df6= t6.to_pandas()\n",
    "print('\\nNombre de lignes : ',len(df6),'\\n',df6)"
   ]
  },
  {
   "cell_type": "code",
   "execution_count": 14,
   "id": "bad85945-3447-444f-b236-308b271188b1",
   "metadata": {},
   "outputs": [
    {
     "name": "stdout",
     "output_type": "stream",
     "text": [
      "['ast_flag', 'cb_flag', 'dec', 'decstr', 'disc_facility', 'disc_instrument', 'disc_locale', 'disc_pubdate', 'disc_refname', 'disc_telescope', 'disc_year', 'discoverymethod', 'dkin_flag', 'elat', 'elon', 'etv_flag', 'gaia_id', 'glat', 'glon', 'hd_name', 'hip_name', 'hostname', 'htm20', 'ima_flag', 'micro_flag', 'obm_flag', 'pl_bmasse', 'pl_bmasse_reflink', 'pl_bmasseerr1', 'pl_bmasseerr2', 'pl_bmasselim', 'pl_bmassestr', 'pl_bmassj', 'pl_bmassj_reflink', 'pl_bmassjerr1', 'pl_bmassjerr2', 'pl_bmassjlim', 'pl_bmassjstr', 'pl_bmassprov', 'pl_controv_flag', 'pl_dens', 'pl_dens_reflink', 'pl_denserr1', 'pl_denserr2', 'pl_denslim', 'pl_densstr', 'pl_eqt', 'pl_eqt_reflink', 'pl_eqterr1', 'pl_eqterr2', 'pl_eqtlim', 'pl_eqtstr', 'pl_imppar', 'pl_imppar_reflink', 'pl_impparerr1', 'pl_impparerr2', 'pl_impparlim', 'pl_impparstr', 'pl_insol', 'pl_insol_reflink', 'pl_insolerr1', 'pl_insolerr2', 'pl_insollim', 'pl_insolstr', 'pl_letter', 'pl_name', 'pl_nespec', 'pl_nnotes', 'pl_ntranspec', 'pl_occdep', 'pl_occdep_reflink', 'pl_occdeperr1', 'pl_occdeperr2', 'pl_occdeplim', 'pl_occdepstr', 'pl_orbeccen', 'pl_orbeccen_reflink', 'pl_orbeccenerr1', 'pl_orbeccenerr2', 'pl_orbeccenlim', 'pl_orbeccenstr', 'pl_orbincl', 'pl_orbincl_reflink', 'pl_orbinclerr1', 'pl_orbinclerr2', 'pl_orbincllim', 'pl_orbinclstr', 'pl_orblper', 'pl_orblper_reflink', 'pl_orblpererr1', 'pl_orblpererr2', 'pl_orblperlim', 'pl_orblperstr', 'pl_orbper', 'pl_orbper_reflink', 'pl_orbpererr1', 'pl_orbpererr2', 'pl_orbperlim', 'pl_orbperstr', 'pl_orbsmax', 'pl_orbsmax_reflink', 'pl_orbsmaxerr1', 'pl_orbsmaxerr2', 'pl_orbsmaxlim', 'pl_orbsmaxstr', 'pl_orbtper', 'pl_orbtper_reflink', 'pl_orbtper_systemref', 'pl_orbtpererr1', 'pl_orbtpererr2', 'pl_orbtperlim', 'pl_orbtperstr', 'pl_projobliq', 'pl_projobliq_reflink', 'pl_projobliqerr1', 'pl_projobliqerr2', 'pl_projobliqlim', 'pl_projobliqstr', 'pl_rade', 'pl_rade_reflink', 'pl_radeerr1', 'pl_radeerr2', 'pl_radelim', 'pl_radestr', 'pl_radj', 'pl_radj_reflink', 'pl_radjerr1', 'pl_radjerr2', 'pl_radjlim', 'pl_radjstr', 'pl_ratdor', 'pl_ratdor_reflink', 'pl_ratdorerr1', 'pl_ratdorerr2', 'pl_ratdorlim', 'pl_ratdorstr', 'pl_ratror', 'pl_ratror_reflink', 'pl_ratrorerr1', 'pl_ratrorerr2', 'pl_ratrorlim', 'pl_ratrorstr', 'pl_rvamp', 'pl_rvamp_reflink', 'pl_rvamperr1', 'pl_rvamperr2', 'pl_rvamplim', 'pl_rvampstr', 'pl_trandep', 'pl_trandep_reflink', 'pl_trandeperr1', 'pl_trandeperr2', 'pl_trandeplim', 'pl_trandepstr', 'pl_trandur', 'pl_trandur_reflink', 'pl_trandurerr1', 'pl_trandurerr2', 'pl_trandurlim', 'pl_trandurstr', 'pl_tranmid', 'pl_tranmid_reflink', 'pl_tranmid_systemref', 'pl_tranmiderr1', 'pl_tranmiderr2', 'pl_tranmidlim', 'pl_tranmidstr', 'pl_trueobliq', 'pl_trueobliq_reflink', 'pl_trueobliqerr1', 'pl_trueobliqerr2', 'pl_trueobliqlim', 'pl_trueobliqstr', 'ptv_flag', 'pul_flag', 'ra', 'ra_reflink', 'rastr', 'rv_flag', 'sky_coord.dec', 'sky_coord.ra', 'st_age', 'st_age_reflink', 'st_ageerr1', 'st_ageerr2', 'st_agelim', 'st_agestr', 'st_dens', 'st_dens_reflink', 'st_denserr1', 'st_denserr2', 'st_denslim', 'st_densstr', 'st_logg', 'st_logg_reflink', 'st_loggerr1', 'st_loggerr2', 'st_logglim', 'st_loggstr', 'st_lum', 'st_lum_reflink', 'st_lumerr1', 'st_lumerr2', 'st_lumlim', 'st_lumstr', 'st_mass', 'st_mass_reflink', 'st_masserr1', 'st_masserr2', 'st_masslim', 'st_massstr', 'st_met', 'st_met_reflink', 'st_meterr1', 'st_meterr2', 'st_metlim', 'st_metratio', 'st_metstr', 'st_nphot', 'st_nrvc', 'st_nspec', 'st_rad', 'st_rad_reflink', 'st_raderr1', 'st_raderr2', 'st_radlim', 'st_radstr', 'st_radv', 'st_radv_reflink', 'st_radverr1', 'st_radverr2', 'st_radvlim', 'st_radvstr', 'st_rotp', 'st_rotp_reflink', 'st_rotperr1', 'st_rotperr2', 'st_rotplim', 'st_rotpstr', 'st_spectype', 'st_spectype_reflink', 'st_teff', 'st_teff_reflink', 'st_tefferr1', 'st_tefferr2', 'st_tefflim', 'st_teffstr', 'st_vsin', 'st_vsin_reflink', 'st_vsinerr1', 'st_vsinerr2', 'st_vsinlim', 'st_vsinstr', 'sy_bmag', 'sy_bmag_reflink', 'sy_bmagerr1', 'sy_bmagerr2', 'sy_bmagstr', 'sy_dist', 'sy_dist_reflink', 'sy_disterr1', 'sy_disterr2', 'sy_diststr', 'sy_gaiamag', 'sy_gaiamag_reflink', 'sy_gaiamagerr1', 'sy_gaiamagerr2', 'sy_gaiamagstr', 'sy_gmag', 'sy_gmag_reflink', 'sy_gmagerr1', 'sy_gmagerr2', 'sy_gmagstr', 'sy_hmag', 'sy_hmag_reflink', 'sy_hmagerr1', 'sy_hmagerr2', 'sy_hmagstr', 'sy_icmag', 'sy_icmag_reflink', 'sy_icmagerr1', 'sy_icmagerr2', 'sy_icmagstr', 'sy_imag', 'sy_imag_reflink', 'sy_imagerr1', 'sy_imagerr2', 'sy_imagstr', 'sy_jmag', 'sy_jmag_reflink', 'sy_jmagerr1', 'sy_jmagerr2', 'sy_jmagstr', 'sy_kepmag', 'sy_kepmag_reflink', 'sy_kepmagerr1', 'sy_kepmagerr2', 'sy_kepmagstr', 'sy_kmag', 'sy_kmag_reflink', 'sy_kmagerr1', 'sy_kmagerr2', 'sy_kmagstr', 'sy_mnum', 'sy_plx', 'sy_plx_reflink', 'sy_plxerr1', 'sy_plxerr2', 'sy_plxstr', 'sy_pm', 'sy_pm_reflink', 'sy_pmdec', 'sy_pmdecerr1', 'sy_pmdecerr2', 'sy_pmdecstr', 'sy_pmerr1', 'sy_pmerr2', 'sy_pmra', 'sy_pmraerr1', 'sy_pmraerr2', 'sy_pmrastr', 'sy_pmstr', 'sy_pnum', 'sy_rmag', 'sy_rmag_reflink', 'sy_rmagerr1', 'sy_rmagerr2', 'sy_rmagstr', 'sy_snum', 'sy_tmag', 'sy_tmag_reflink', 'sy_tmagerr1', 'sy_tmagerr2', 'sy_tmagstr', 'sy_umag', 'sy_umag_reflink', 'sy_umagerr1', 'sy_umagerr2', 'sy_umagstr', 'sy_vmag', 'sy_vmag_reflink', 'sy_vmagerr1', 'sy_vmagerr2', 'sy_vmagstr', 'sy_w1mag', 'sy_w1mag_reflink', 'sy_w1magerr1', 'sy_w1magerr2', 'sy_w1magstr', 'sy_w2mag', 'sy_w2mag_reflink', 'sy_w2magerr1', 'sy_w2magerr2', 'sy_w2magstr', 'sy_w3mag', 'sy_w3mag_reflink', 'sy_w3magerr1', 'sy_w3magerr2', 'sy_w3magstr', 'sy_w4mag', 'sy_w4mag_reflink', 'sy_w4magerr1', 'sy_w4magerr2', 'sy_w4magstr', 'sy_zmag', 'sy_zmag_reflink', 'sy_zmagerr1', 'sy_zmagerr2', 'sy_zmagstr', 'tic_id', 'tran_flag', 'ttv_flag', 'x', 'y', 'z']\n"
     ]
    }
   ],
   "source": [
    "t3 =NasaExoplanetArchive.query_criteria(table=\"pscomppars\", select=\"top 10 *\")\n",
    "df3 = t3.to_pandas().dropna()\n",
    "colonnes = df3.columns.tolist()\n",
    "colonnes.sort()\n",
    "print(colonnes)"
   ]
  },
  {
   "cell_type": "code",
   "execution_count": 32,
   "id": "dd79a2c6-fb98-43cf-930d-ee5eaa5340a5",
   "metadata": {},
   "outputs": [
    {
     "name": "stdout",
     "output_type": "stream",
     "text": [
      "\n",
      "Nombre de lignes :  69 \n",
      "                       pl_name                 hostname pl_letter  sy_snum  \\\n",
      "0                    AF Lep b                   AF Lep         b        1   \n",
      "1                 HD 169142 b                HD 169142         b        1   \n",
      "2               HIP 81208 C b              HIP 81208 C         b        3   \n",
      "3                 HIP 99770 b                HIP 99770         b        1   \n",
      "4                   MWC 758 c                  MWC 758         c        1   \n",
      "..                        ...                      ...       ...      ...   \n",
      "64                   Oph 11 b                   Oph 11         b        1   \n",
      "65                   AB Pic b                   AB Pic         b        1   \n",
      "66  2MASS J12073346-3932539 b  2MASS J12073346-3932539         b        1   \n",
      "67                   DH Tau b                   DH Tau         b        1   \n",
      "68                   GQ Lup b                   GQ Lup         b        1   \n",
      "\n",
      "    sy_pnum  sy_mnum discoverymethod  disc_year  \\\n",
      "0         1        0         Imaging       2023   \n",
      "1         1        0         Imaging       2023   \n",
      "2         1        0         Imaging       2023   \n",
      "3         1        0         Imaging       2023   \n",
      "4         1        0         Imaging       2023   \n",
      "..      ...      ...             ...        ...   \n",
      "64        1        0         Imaging       2006   \n",
      "65        1        0         Imaging       2005   \n",
      "66        1        0         Imaging       2004   \n",
      "67        1        0         Imaging       2004   \n",
      "68        1        0         Imaging       2004   \n",
      "\n",
      "                         disc_telescope       disc_instrument  pl_rade  \\\n",
      "0   8.2 m ESO VLT UT3 Melipal Telescope                SPHERE   13.100   \n",
      "1   8.2 m ESO VLT UT3 Melipal Telescope                SPHERE   13.100   \n",
      "2   8.2 m ESO VLT UT3 Melipal Telescope                SPHERE   12.300   \n",
      "3                   Multiple Telescopes  Multiple Instruments   12.200   \n",
      "4             Large Binocular Telescope               LMIRCam      NaN   \n",
      "..                                  ...                   ...      ...   \n",
      "64        8.19 m Gemini North Telescope           NIRI Camera   12.300   \n",
      "65    8.2 m ESO VLT UT4 Yepun Telescope           NACO Camera   12.300   \n",
      "66    8.2 m ESO VLT UT4 Yepun Telescope           NACO Camera   12.900   \n",
      "67               8.2 m Subaru Telescope           CIAO Camera   30.264   \n",
      "68    8.2 m ESO VLT UT4 Yepun Telescope           NACO Camera   33.600   \n",
      "\n",
      "    pl_radj   pl_bmasse  pl_bmassj  pl_dens  pl_orbincl st_spectype  st_rad  \\\n",
      "0      1.17  1017.05090        3.2    2.490        50.0        F8 V    1.25   \n",
      "1      1.17   953.48522        3.0    2.330        13.0                1.54   \n",
      "2      1.09  4703.86042       14.8   13.900         NaN           M     NaN   \n",
      "3      1.09  5117.03735       16.1   15.500       148.0       A5-A6    1.94   \n",
      "4       NaN         NaN        NaN      NaN         NaN        A8Ve    2.01   \n",
      "..      ...         ...        ...      ...         ...         ...     ...   \n",
      "64     1.10  4449.62000       14.0   13.100         NaN          M9    0.23   \n",
      "65     1.10  4290.50000       13.5   12.700         NaN        K2 V    1.00   \n",
      "66     1.15  1589.15000        5.0    4.070         NaN          M8    0.22   \n",
      "67     2.70  3496.00000       11.0    0.693         NaN        M0.5    0.27   \n",
      "68     3.00  6356.00000       20.0    0.921         NaN       K7e V    1.94   \n",
      "\n",
      "    st_mass st_metratio  st_age   st_dens         rastr          ra  \\\n",
      "0      1.20      [Fe/H]   0.024   1.45415  05h27m04.78s   81.769922   \n",
      "1      1.85               0.006   0.63287  18h24m29.78s  276.124072   \n",
      "2      0.14               0.017       NaN   16h35m13.8s  248.807500   \n",
      "3      1.85               0.264   0.36695  20h14m32.12s  303.633834   \n",
      "4      1.50               0.004   0.28542  05h30m27.53s   82.614720   \n",
      "..      ...         ...     ...       ...           ...         ...   \n",
      "64     0.02               5.000  22.64533  16h22m25.19s  245.604961   \n",
      "65     0.90      [Fe/H]   0.030   1.12014  06h19m12.94s   94.803921   \n",
      "66     0.02               0.008  25.27945  12h07m33.38s  181.889091   \n",
      "67     0.33               0.001   0.37705  04h29m41.56s   67.423167   \n",
      "68     0.70      [Fe/H]   0.001       NaN  15h49m12.09s  237.300364   \n",
      "\n",
      "           decstr        dec      glat       glon      elat       elon  \\\n",
      "0   -11d54m04.23s -11.901175 -24.04116  214.37435 -35.05939   80.14319   \n",
      "1   -29d46m49.91s -29.780532  -7.80957    3.39212  -6.45484  275.34291   \n",
      "2   -35d43m29.13s -35.724758   7.95099  345.70961 -13.56934  252.42400   \n",
      "3   +36d48m23.78s  36.806605   1.17139   74.44856  54.57223  319.90639   \n",
      "4   +25d19m56.67s  25.332408  -4.77532  181.24794   2.06412   83.32007   \n",
      "..            ...        ...       ...        ...       ...        ...   \n",
      "64  -24d05m14.00s -24.087222  17.80321  352.67855  -2.50633  247.82588   \n",
      "65  -58d03m14.83s -58.054118 -26.93081  266.94347 -81.21165  106.85953   \n",
      "66  -39d32m54.38s -39.548440  22.54309  293.79011 -35.03506  199.74342   \n",
      "67  +26d32m57.80s  26.549390 -14.93888  171.89958   4.67616   69.84359   \n",
      "68  -35d39m05.42s -35.651505  14.51078  338.92530 -15.23388  242.93702   \n",
      "\n",
      "       sy_dist  sy_gaiamag   sy_tmag  sky_coord.ra  sky_coord.dec  \n",
      "0    26.856400     6.18644   5.79320     81.769922     -11.901175  \n",
      "1   113.600000     8.05449   7.83637    276.124072     -29.780532  \n",
      "2   147.533000         NaN       NaN    248.807500     -35.724758  \n",
      "3    40.076500     4.91470   4.79060    303.633834      36.806605  \n",
      "4   159.537000     8.19951   7.98269     82.614720      25.332408  \n",
      "..         ...         ...       ...           ...            ...  \n",
      "64  136.165592    18.91200  16.97780    245.604961     -24.087222  \n",
      "65   50.047500     8.83780   8.27630     94.803921     -58.054118  \n",
      "66   64.308000    17.40760  15.66200    181.889091     -39.548440  \n",
      "67  134.846000    12.49610  11.45550     67.423167      26.549390  \n",
      "68  151.169000    11.26080  10.39650    237.300364     -35.651505  \n",
      "\n",
      "[69 rows x 35 columns]\n"
     ]
    }
   ],
   "source": [
    "pd.set_option('display.max_columns', None)\n",
    "t7 =NasaExoplanetArchive.query_criteria(table=\"pscomppars\", \n",
    "            select=\" distinct  pl_name, hostname, pl_letter, sy_snum, sy_pnum, sy_mnum, \"+ \n",
    "            \"discoverymethod,disc_year,   \"+\n",
    "            \"disc_telescope,disc_instrument,   pl_rade, pl_radj, pl_bmasse, \" +\n",
    "            \"pl_bmassj, pl_dens,   pl_orbincl,  \" +\n",
    "            \"st_spectype,st_rad, st_mass, st_metratio,  st_age, st_dens, \"+\n",
    "            \"rastr, ra, decstr, dec, glat, glon, elat, elon, sy_dist, \"+\n",
    "            \"sy_gaiamag, sy_tmag\"\n",
    "            ,where=\"discoverymethod like '%Imag%'\"\n",
    "            ,order=\"disc_year desc\"\n",
    "                                       )\n",
    "df7= t7.to_pandas()\n",
    "print('\\nNombre de lignes : ',len(df7),'\\n',df7)"
   ]
  },
  {
   "cell_type": "code",
   "execution_count": null,
   "id": "35680883-cf92-4102-bda6-34123089db5e",
   "metadata": {},
   "outputs": [],
   "source": []
  }
 ],
 "metadata": {
  "kernelspec": {
   "display_name": "Python 3 (ipykernel)",
   "language": "python",
   "name": "python3"
  },
  "language_info": {
   "codemirror_mode": {
    "name": "ipython",
    "version": 3
   },
   "file_extension": ".py",
   "mimetype": "text/x-python",
   "name": "python",
   "nbconvert_exporter": "python",
   "pygments_lexer": "ipython3",
   "version": "3.11.5"
  }
 },
 "nbformat": 4,
 "nbformat_minor": 5
}
