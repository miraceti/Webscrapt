{
 "cells": [
  {
   "cell_type": "code",
   "execution_count": 23,
   "id": "7a6413f1-2b01-4539-8f6d-447ff772f5b1",
   "metadata": {},
   "outputs": [
    {
     "name": "stdout",
     "output_type": "stream",
     "text": [
      "             pl_name      hostname pl_letter  sy_snum  sy_pnum  sy_mnum  \\\n",
      "0           75 Cet c        75 Cet         c        2        2        0   \n",
      "1           AF Lep b        AF Lep         b        1        1        0   \n",
      "2           AU Mic d        AU Mic         d        1        3        0   \n",
      "3        BD-210397 b     BD-210397         b        1        2        0   \n",
      "4        BD-210397 c     BD-210397         c        1        2        0   \n",
      "...              ...           ...       ...      ...      ...      ...   \n",
      "5561       ups And b       ups And         b        2        3        0   \n",
      "5562        51 Peg b        51 Peg         b        1        1        0   \n",
      "5563  PSR B1257+12 b  PSR B1257+12         b        1        3        0   \n",
      "5564  PSR B1257+12 c  PSR B1257+12         c        1        3        0   \n",
      "5565  PSR B1257+12 d  PSR B1257+12         d        1        3        0   \n",
      "\n",
      "                discoverymethod  disc_year  \\\n",
      "0               Radial Velocity       2023   \n",
      "1                       Imaging       2023   \n",
      "2     Transit Timing Variations       2023   \n",
      "3               Radial Velocity       2023   \n",
      "4               Radial Velocity       2023   \n",
      "...                         ...        ...   \n",
      "5561            Radial Velocity       1996   \n",
      "5562            Radial Velocity       1995   \n",
      "5563              Pulsar Timing       1994   \n",
      "5564              Pulsar Timing       1992   \n",
      "5565              Pulsar Timing       1992   \n",
      "\n",
      "                           disc_telescope                disc_instrument  ...  \\\n",
      "0                        1.88 m Telescope     HIDES Echelle Spectrograph  ...   \n",
      "1     8.2 m ESO VLT UT3 Melipal Telescope                         SPHERE  ...   \n",
      "2                     Multiple Telescopes           Multiple Instruments  ...   \n",
      "3                     3.6 m ESO Telescope             HARPS Spectrograph  ...   \n",
      "4                     3.6 m ESO Telescope             HARPS Spectrograph  ...   \n",
      "...                                   ...                            ...  ...   \n",
      "5561      3.0 m C. Donald Shane Telescope  Hamilton Echelle Spectrograph  ...   \n",
      "5562                     1.93 m Telescope            ELODIE Spectrograph  ...   \n",
      "5563        305 m Arecibo Radio Telescope         Arecibo Radio Reciever  ...   \n",
      "5564        305 m Arecibo Radio Telescope         Arecibo Radio Reciever  ...   \n",
      "5565        305 m Arecibo Radio Telescope         Arecibo Radio Reciever  ...   \n",
      "\n",
      "            dec      glat       glon      elat       elon   sy_dist  \\\n",
      "0     -1.035027 -54.44177  169.94418 -15.16759   35.32138   82.9613   \n",
      "1    -11.901175 -24.04116  214.37435 -35.05939   80.14319   26.8564   \n",
      "2    -31.342450 -36.80401   12.65304 -12.82465  305.30682    9.7221   \n",
      "3    -21.196215 -70.45622  199.69949 -32.36798   22.68899   23.7324   \n",
      "4    -21.196215 -70.45622  199.69949 -32.36798   22.68899   23.7324   \n",
      "...         ...       ...        ...       ...        ...       ...   \n",
      "5561  41.403815 -20.66791  132.00045  28.97913   38.54864   13.4054   \n",
      "5562  20.769096 -34.72750   90.06374  25.18633  354.28512   15.4614   \n",
      "5563  12.682353  75.41367  311.30973  17.57580  188.72209  600.0000   \n",
      "5564  12.682353  75.41367  311.30973  17.57580  188.72209  600.0000   \n",
      "5565  12.682353  75.41367  311.30973  17.57580  188.72209  600.0000   \n",
      "\n",
      "      sy_gaiamag  sy_tmag sky_coord.ra  sky_coord.dec  \n",
      "0        5.09343   4.5054    38.039160      -1.035027  \n",
      "1        6.18644   5.7932    81.769922     -11.901175  \n",
      "2        7.84038   6.7550   311.291137     -31.342450  \n",
      "3        9.25962   8.4502    33.302420     -21.196215  \n",
      "4        9.25962   8.4502    33.302420     -21.196215  \n",
      "...          ...      ...          ...            ...  \n",
      "5561     3.98687   3.6137    24.198353      41.403815  \n",
      "5562     5.28647   4.8576   344.367540      20.769096  \n",
      "5563         NaN      NaN   195.014903      12.682353  \n",
      "5564         NaN      NaN   195.014903      12.682353  \n",
      "5565         NaN      NaN   195.014903      12.682353  \n",
      "\n",
      "[5566 rows x 34 columns]\n"
     ]
    }
   ],
   "source": [
    "import plotly.express as px\n",
    "import plotly.io as pio\n",
    "import pandas as pd\n",
    "import numpy as np\n",
    "\n",
    "#read csv to datafrtame\n",
    "df7 = pd.read_csv('exoplanet_2023.csv', sep=',')\n",
    "#df7=df7.dropna(axis=1)\n",
    "print(df7)"
   ]
  },
  {
   "cell_type": "code",
   "execution_count": 24,
   "id": "8ec22120-b57f-4e64-b304-e2369ce6de40",
   "metadata": {},
   "outputs": [],
   "source": [
    "df7['pl_bmasse']=df7['pl_bmasse'].replace(np.nan,0)"
   ]
  },
  {
   "cell_type": "code",
   "execution_count": 25,
   "id": "cae69b48-287f-4097-820a-e941eb8aee84",
   "metadata": {},
   "outputs": [
    {
     "data": {
      "text/html": [
       "<div>\n",
       "<style scoped>\n",
       "    .dataframe tbody tr th:only-of-type {\n",
       "        vertical-align: middle;\n",
       "    }\n",
       "\n",
       "    .dataframe tbody tr th {\n",
       "        vertical-align: top;\n",
       "    }\n",
       "\n",
       "    .dataframe thead th {\n",
       "        text-align: right;\n",
       "    }\n",
       "</style>\n",
       "<table border=\"1\" class=\"dataframe\">\n",
       "  <thead>\n",
       "    <tr style=\"text-align: right;\">\n",
       "      <th></th>\n",
       "      <th>pl_name</th>\n",
       "      <th>hostname</th>\n",
       "      <th>pl_letter</th>\n",
       "      <th>sy_snum</th>\n",
       "      <th>sy_pnum</th>\n",
       "      <th>sy_mnum</th>\n",
       "      <th>discoverymethod</th>\n",
       "      <th>disc_year</th>\n",
       "      <th>disc_telescope</th>\n",
       "      <th>disc_instrument</th>\n",
       "      <th>...</th>\n",
       "      <th>dec</th>\n",
       "      <th>glat</th>\n",
       "      <th>glon</th>\n",
       "      <th>elat</th>\n",
       "      <th>elon</th>\n",
       "      <th>sy_dist</th>\n",
       "      <th>sy_gaiamag</th>\n",
       "      <th>sy_tmag</th>\n",
       "      <th>sky_coord.ra</th>\n",
       "      <th>sky_coord.dec</th>\n",
       "    </tr>\n",
       "  </thead>\n",
       "  <tbody>\n",
       "    <tr>\n",
       "      <th>0</th>\n",
       "      <td>75 Cet c</td>\n",
       "      <td>75 Cet</td>\n",
       "      <td>c</td>\n",
       "      <td>2</td>\n",
       "      <td>2</td>\n",
       "      <td>0</td>\n",
       "      <td>Radial Velocity</td>\n",
       "      <td>2023</td>\n",
       "      <td>1.88 m Telescope</td>\n",
       "      <td>HIDES Echelle Spectrograph</td>\n",
       "      <td>...</td>\n",
       "      <td>-1.035027</td>\n",
       "      <td>-54.44177</td>\n",
       "      <td>169.94418</td>\n",
       "      <td>-15.16759</td>\n",
       "      <td>35.32138</td>\n",
       "      <td>82.9613</td>\n",
       "      <td>5.09343</td>\n",
       "      <td>4.5054</td>\n",
       "      <td>38.039160</td>\n",
       "      <td>-1.035027</td>\n",
       "    </tr>\n",
       "    <tr>\n",
       "      <th>1</th>\n",
       "      <td>AF Lep b</td>\n",
       "      <td>AF Lep</td>\n",
       "      <td>b</td>\n",
       "      <td>1</td>\n",
       "      <td>1</td>\n",
       "      <td>0</td>\n",
       "      <td>Imaging</td>\n",
       "      <td>2023</td>\n",
       "      <td>8.2 m ESO VLT UT3 Melipal Telescope</td>\n",
       "      <td>SPHERE</td>\n",
       "      <td>...</td>\n",
       "      <td>-11.901175</td>\n",
       "      <td>-24.04116</td>\n",
       "      <td>214.37435</td>\n",
       "      <td>-35.05939</td>\n",
       "      <td>80.14319</td>\n",
       "      <td>26.8564</td>\n",
       "      <td>6.18644</td>\n",
       "      <td>5.7932</td>\n",
       "      <td>81.769922</td>\n",
       "      <td>-11.901175</td>\n",
       "    </tr>\n",
       "    <tr>\n",
       "      <th>2</th>\n",
       "      <td>AU Mic d</td>\n",
       "      <td>AU Mic</td>\n",
       "      <td>d</td>\n",
       "      <td>1</td>\n",
       "      <td>3</td>\n",
       "      <td>0</td>\n",
       "      <td>Transit Timing Variations</td>\n",
       "      <td>2023</td>\n",
       "      <td>Multiple Telescopes</td>\n",
       "      <td>Multiple Instruments</td>\n",
       "      <td>...</td>\n",
       "      <td>-31.342450</td>\n",
       "      <td>-36.80401</td>\n",
       "      <td>12.65304</td>\n",
       "      <td>-12.82465</td>\n",
       "      <td>305.30682</td>\n",
       "      <td>9.7221</td>\n",
       "      <td>7.84038</td>\n",
       "      <td>6.7550</td>\n",
       "      <td>311.291137</td>\n",
       "      <td>-31.342450</td>\n",
       "    </tr>\n",
       "    <tr>\n",
       "      <th>3</th>\n",
       "      <td>BD-210397 b</td>\n",
       "      <td>BD-210397</td>\n",
       "      <td>b</td>\n",
       "      <td>1</td>\n",
       "      <td>2</td>\n",
       "      <td>0</td>\n",
       "      <td>Radial Velocity</td>\n",
       "      <td>2023</td>\n",
       "      <td>3.6 m ESO Telescope</td>\n",
       "      <td>HARPS Spectrograph</td>\n",
       "      <td>...</td>\n",
       "      <td>-21.196215</td>\n",
       "      <td>-70.45622</td>\n",
       "      <td>199.69949</td>\n",
       "      <td>-32.36798</td>\n",
       "      <td>22.68899</td>\n",
       "      <td>23.7324</td>\n",
       "      <td>9.25962</td>\n",
       "      <td>8.4502</td>\n",
       "      <td>33.302420</td>\n",
       "      <td>-21.196215</td>\n",
       "    </tr>\n",
       "    <tr>\n",
       "      <th>4</th>\n",
       "      <td>BD-210397 c</td>\n",
       "      <td>BD-210397</td>\n",
       "      <td>c</td>\n",
       "      <td>1</td>\n",
       "      <td>2</td>\n",
       "      <td>0</td>\n",
       "      <td>Radial Velocity</td>\n",
       "      <td>2023</td>\n",
       "      <td>3.6 m ESO Telescope</td>\n",
       "      <td>HARPS Spectrograph</td>\n",
       "      <td>...</td>\n",
       "      <td>-21.196215</td>\n",
       "      <td>-70.45622</td>\n",
       "      <td>199.69949</td>\n",
       "      <td>-32.36798</td>\n",
       "      <td>22.68899</td>\n",
       "      <td>23.7324</td>\n",
       "      <td>9.25962</td>\n",
       "      <td>8.4502</td>\n",
       "      <td>33.302420</td>\n",
       "      <td>-21.196215</td>\n",
       "    </tr>\n",
       "    <tr>\n",
       "      <th>...</th>\n",
       "      <td>...</td>\n",
       "      <td>...</td>\n",
       "      <td>...</td>\n",
       "      <td>...</td>\n",
       "      <td>...</td>\n",
       "      <td>...</td>\n",
       "      <td>...</td>\n",
       "      <td>...</td>\n",
       "      <td>...</td>\n",
       "      <td>...</td>\n",
       "      <td>...</td>\n",
       "      <td>...</td>\n",
       "      <td>...</td>\n",
       "      <td>...</td>\n",
       "      <td>...</td>\n",
       "      <td>...</td>\n",
       "      <td>...</td>\n",
       "      <td>...</td>\n",
       "      <td>...</td>\n",
       "      <td>...</td>\n",
       "      <td>...</td>\n",
       "    </tr>\n",
       "    <tr>\n",
       "      <th>5561</th>\n",
       "      <td>ups And b</td>\n",
       "      <td>ups And</td>\n",
       "      <td>b</td>\n",
       "      <td>2</td>\n",
       "      <td>3</td>\n",
       "      <td>0</td>\n",
       "      <td>Radial Velocity</td>\n",
       "      <td>1996</td>\n",
       "      <td>3.0 m C. Donald Shane Telescope</td>\n",
       "      <td>Hamilton Echelle Spectrograph</td>\n",
       "      <td>...</td>\n",
       "      <td>41.403815</td>\n",
       "      <td>-20.66791</td>\n",
       "      <td>132.00045</td>\n",
       "      <td>28.97913</td>\n",
       "      <td>38.54864</td>\n",
       "      <td>13.4054</td>\n",
       "      <td>3.98687</td>\n",
       "      <td>3.6137</td>\n",
       "      <td>24.198353</td>\n",
       "      <td>41.403815</td>\n",
       "    </tr>\n",
       "    <tr>\n",
       "      <th>5562</th>\n",
       "      <td>51 Peg b</td>\n",
       "      <td>51 Peg</td>\n",
       "      <td>b</td>\n",
       "      <td>1</td>\n",
       "      <td>1</td>\n",
       "      <td>0</td>\n",
       "      <td>Radial Velocity</td>\n",
       "      <td>1995</td>\n",
       "      <td>1.93 m Telescope</td>\n",
       "      <td>ELODIE Spectrograph</td>\n",
       "      <td>...</td>\n",
       "      <td>20.769096</td>\n",
       "      <td>-34.72750</td>\n",
       "      <td>90.06374</td>\n",
       "      <td>25.18633</td>\n",
       "      <td>354.28512</td>\n",
       "      <td>15.4614</td>\n",
       "      <td>5.28647</td>\n",
       "      <td>4.8576</td>\n",
       "      <td>344.367540</td>\n",
       "      <td>20.769096</td>\n",
       "    </tr>\n",
       "    <tr>\n",
       "      <th>5563</th>\n",
       "      <td>PSR B1257+12 b</td>\n",
       "      <td>PSR B1257+12</td>\n",
       "      <td>b</td>\n",
       "      <td>1</td>\n",
       "      <td>3</td>\n",
       "      <td>0</td>\n",
       "      <td>Pulsar Timing</td>\n",
       "      <td>1994</td>\n",
       "      <td>305 m Arecibo Radio Telescope</td>\n",
       "      <td>Arecibo Radio Reciever</td>\n",
       "      <td>...</td>\n",
       "      <td>12.682353</td>\n",
       "      <td>75.41367</td>\n",
       "      <td>311.30973</td>\n",
       "      <td>17.57580</td>\n",
       "      <td>188.72209</td>\n",
       "      <td>600.0000</td>\n",
       "      <td>NaN</td>\n",
       "      <td>NaN</td>\n",
       "      <td>195.014903</td>\n",
       "      <td>12.682353</td>\n",
       "    </tr>\n",
       "    <tr>\n",
       "      <th>5564</th>\n",
       "      <td>PSR B1257+12 c</td>\n",
       "      <td>PSR B1257+12</td>\n",
       "      <td>c</td>\n",
       "      <td>1</td>\n",
       "      <td>3</td>\n",
       "      <td>0</td>\n",
       "      <td>Pulsar Timing</td>\n",
       "      <td>1992</td>\n",
       "      <td>305 m Arecibo Radio Telescope</td>\n",
       "      <td>Arecibo Radio Reciever</td>\n",
       "      <td>...</td>\n",
       "      <td>12.682353</td>\n",
       "      <td>75.41367</td>\n",
       "      <td>311.30973</td>\n",
       "      <td>17.57580</td>\n",
       "      <td>188.72209</td>\n",
       "      <td>600.0000</td>\n",
       "      <td>NaN</td>\n",
       "      <td>NaN</td>\n",
       "      <td>195.014903</td>\n",
       "      <td>12.682353</td>\n",
       "    </tr>\n",
       "    <tr>\n",
       "      <th>5565</th>\n",
       "      <td>PSR B1257+12 d</td>\n",
       "      <td>PSR B1257+12</td>\n",
       "      <td>d</td>\n",
       "      <td>1</td>\n",
       "      <td>3</td>\n",
       "      <td>0</td>\n",
       "      <td>Pulsar Timing</td>\n",
       "      <td>1992</td>\n",
       "      <td>305 m Arecibo Radio Telescope</td>\n",
       "      <td>Arecibo Radio Reciever</td>\n",
       "      <td>...</td>\n",
       "      <td>12.682353</td>\n",
       "      <td>75.41367</td>\n",
       "      <td>311.30973</td>\n",
       "      <td>17.57580</td>\n",
       "      <td>188.72209</td>\n",
       "      <td>600.0000</td>\n",
       "      <td>NaN</td>\n",
       "      <td>NaN</td>\n",
       "      <td>195.014903</td>\n",
       "      <td>12.682353</td>\n",
       "    </tr>\n",
       "  </tbody>\n",
       "</table>\n",
       "<p>5566 rows × 34 columns</p>\n",
       "</div>"
      ],
      "text/plain": [
       "             pl_name      hostname pl_letter  sy_snum  sy_pnum  sy_mnum  \\\n",
       "0           75 Cet c        75 Cet         c        2        2        0   \n",
       "1           AF Lep b        AF Lep         b        1        1        0   \n",
       "2           AU Mic d        AU Mic         d        1        3        0   \n",
       "3        BD-210397 b     BD-210397         b        1        2        0   \n",
       "4        BD-210397 c     BD-210397         c        1        2        0   \n",
       "...              ...           ...       ...      ...      ...      ...   \n",
       "5561       ups And b       ups And         b        2        3        0   \n",
       "5562        51 Peg b        51 Peg         b        1        1        0   \n",
       "5563  PSR B1257+12 b  PSR B1257+12         b        1        3        0   \n",
       "5564  PSR B1257+12 c  PSR B1257+12         c        1        3        0   \n",
       "5565  PSR B1257+12 d  PSR B1257+12         d        1        3        0   \n",
       "\n",
       "                discoverymethod  disc_year  \\\n",
       "0               Radial Velocity       2023   \n",
       "1                       Imaging       2023   \n",
       "2     Transit Timing Variations       2023   \n",
       "3               Radial Velocity       2023   \n",
       "4               Radial Velocity       2023   \n",
       "...                         ...        ...   \n",
       "5561            Radial Velocity       1996   \n",
       "5562            Radial Velocity       1995   \n",
       "5563              Pulsar Timing       1994   \n",
       "5564              Pulsar Timing       1992   \n",
       "5565              Pulsar Timing       1992   \n",
       "\n",
       "                           disc_telescope                disc_instrument  ...  \\\n",
       "0                        1.88 m Telescope     HIDES Echelle Spectrograph  ...   \n",
       "1     8.2 m ESO VLT UT3 Melipal Telescope                         SPHERE  ...   \n",
       "2                     Multiple Telescopes           Multiple Instruments  ...   \n",
       "3                     3.6 m ESO Telescope             HARPS Spectrograph  ...   \n",
       "4                     3.6 m ESO Telescope             HARPS Spectrograph  ...   \n",
       "...                                   ...                            ...  ...   \n",
       "5561      3.0 m C. Donald Shane Telescope  Hamilton Echelle Spectrograph  ...   \n",
       "5562                     1.93 m Telescope            ELODIE Spectrograph  ...   \n",
       "5563        305 m Arecibo Radio Telescope         Arecibo Radio Reciever  ...   \n",
       "5564        305 m Arecibo Radio Telescope         Arecibo Radio Reciever  ...   \n",
       "5565        305 m Arecibo Radio Telescope         Arecibo Radio Reciever  ...   \n",
       "\n",
       "            dec      glat       glon      elat       elon   sy_dist  \\\n",
       "0     -1.035027 -54.44177  169.94418 -15.16759   35.32138   82.9613   \n",
       "1    -11.901175 -24.04116  214.37435 -35.05939   80.14319   26.8564   \n",
       "2    -31.342450 -36.80401   12.65304 -12.82465  305.30682    9.7221   \n",
       "3    -21.196215 -70.45622  199.69949 -32.36798   22.68899   23.7324   \n",
       "4    -21.196215 -70.45622  199.69949 -32.36798   22.68899   23.7324   \n",
       "...         ...       ...        ...       ...        ...       ...   \n",
       "5561  41.403815 -20.66791  132.00045  28.97913   38.54864   13.4054   \n",
       "5562  20.769096 -34.72750   90.06374  25.18633  354.28512   15.4614   \n",
       "5563  12.682353  75.41367  311.30973  17.57580  188.72209  600.0000   \n",
       "5564  12.682353  75.41367  311.30973  17.57580  188.72209  600.0000   \n",
       "5565  12.682353  75.41367  311.30973  17.57580  188.72209  600.0000   \n",
       "\n",
       "      sy_gaiamag  sy_tmag sky_coord.ra  sky_coord.dec  \n",
       "0        5.09343   4.5054    38.039160      -1.035027  \n",
       "1        6.18644   5.7932    81.769922     -11.901175  \n",
       "2        7.84038   6.7550   311.291137     -31.342450  \n",
       "3        9.25962   8.4502    33.302420     -21.196215  \n",
       "4        9.25962   8.4502    33.302420     -21.196215  \n",
       "...          ...      ...          ...            ...  \n",
       "5561     3.98687   3.6137    24.198353      41.403815  \n",
       "5562     5.28647   4.8576   344.367540      20.769096  \n",
       "5563         NaN      NaN   195.014903      12.682353  \n",
       "5564         NaN      NaN   195.014903      12.682353  \n",
       "5565         NaN      NaN   195.014903      12.682353  \n",
       "\n",
       "[5566 rows x 34 columns]"
      ]
     },
     "execution_count": 25,
     "metadata": {},
     "output_type": "execute_result"
    }
   ],
   "source": [
    "df7"
   ]
  },
  {
   "cell_type": "code",
   "execution_count": 26,
   "id": "ca9d7eae-14dc-4972-90a4-8ad0bbbb9e34",
   "metadata": {},
   "outputs": [
    {
     "data": {
      "text/plain": [
       "discoverymethod\n",
       "Astrometry                          3\n",
       "Disk Kinematics                     1\n",
       "Eclipse Timing Variations          17\n",
       "Imaging                            69\n",
       "Microlensing                      205\n",
       "Orbital Brightness Modulation       9\n",
       "Pulsar Timing                       7\n",
       "Pulsation Timing Variations         2\n",
       "Radial Velocity                  1075\n",
       "Transit                          4150\n",
       "Transit Timing Variations          28\n",
       "Name: pl_name, dtype: int64"
      ]
     },
     "execution_count": 26,
     "metadata": {},
     "output_type": "execute_result"
    }
   ],
   "source": [
    "df_method = df7.groupby(['discoverymethod'])['pl_name'].count()\n",
    "df_method"
   ]
  },
  {
   "cell_type": "code",
   "execution_count": 27,
   "id": "e1fedc51-1cca-4767-aa68-1aab1699f41a",
   "metadata": {},
   "outputs": [],
   "source": [
    "data = [['Astrometry',df_method['Astrometry']],['Disk Kinematics',df_method['Disk Kinematics']],\n",
    "        ['Eclipse Timing Variations',df_method['Eclipse Timing Variations']],['Imaging',df_method['Imaging']],\n",
    "        ['Microlensing',df_method['Microlensing']],['Orbital Brightness Modulation',df_method['Orbital Brightness Modulation']],\n",
    "        ['Pulsar Timing',df_method['Pulsar Timing']],['Pulsation Timing Variations',df_method['Pulsation Timing Variations']],\n",
    "        ['Radial Velocity',df_method['Radial Velocity']],['Transit',df_method['Transit']],\n",
    "        ['Transit Timing Variations',df_method['Transit Timing Variations']]]"
   ]
  },
  {
   "cell_type": "code",
   "execution_count": 28,
   "id": "0045781b-a7e3-4d2b-bef8-19802d18e131",
   "metadata": {},
   "outputs": [
    {
     "data": {
      "text/html": [
       "<div>\n",
       "<style scoped>\n",
       "    .dataframe tbody tr th:only-of-type {\n",
       "        vertical-align: middle;\n",
       "    }\n",
       "\n",
       "    .dataframe tbody tr th {\n",
       "        vertical-align: top;\n",
       "    }\n",
       "\n",
       "    .dataframe thead th {\n",
       "        text-align: right;\n",
       "    }\n",
       "</style>\n",
       "<table border=\"1\" class=\"dataframe\">\n",
       "  <thead>\n",
       "    <tr style=\"text-align: right;\">\n",
       "      <th></th>\n",
       "      <th>method_name</th>\n",
       "      <th>method_count</th>\n",
       "    </tr>\n",
       "  </thead>\n",
       "  <tbody>\n",
       "    <tr>\n",
       "      <th>0</th>\n",
       "      <td>Astrometry</td>\n",
       "      <td>3</td>\n",
       "    </tr>\n",
       "    <tr>\n",
       "      <th>1</th>\n",
       "      <td>Disk Kinematics</td>\n",
       "      <td>1</td>\n",
       "    </tr>\n",
       "    <tr>\n",
       "      <th>2</th>\n",
       "      <td>Eclipse Timing Variations</td>\n",
       "      <td>17</td>\n",
       "    </tr>\n",
       "    <tr>\n",
       "      <th>3</th>\n",
       "      <td>Imaging</td>\n",
       "      <td>69</td>\n",
       "    </tr>\n",
       "    <tr>\n",
       "      <th>4</th>\n",
       "      <td>Microlensing</td>\n",
       "      <td>205</td>\n",
       "    </tr>\n",
       "    <tr>\n",
       "      <th>5</th>\n",
       "      <td>Orbital Brightness Modulation</td>\n",
       "      <td>9</td>\n",
       "    </tr>\n",
       "    <tr>\n",
       "      <th>6</th>\n",
       "      <td>Pulsar Timing</td>\n",
       "      <td>7</td>\n",
       "    </tr>\n",
       "    <tr>\n",
       "      <th>7</th>\n",
       "      <td>Pulsation Timing Variations</td>\n",
       "      <td>2</td>\n",
       "    </tr>\n",
       "    <tr>\n",
       "      <th>8</th>\n",
       "      <td>Radial Velocity</td>\n",
       "      <td>1075</td>\n",
       "    </tr>\n",
       "    <tr>\n",
       "      <th>9</th>\n",
       "      <td>Transit</td>\n",
       "      <td>4150</td>\n",
       "    </tr>\n",
       "    <tr>\n",
       "      <th>10</th>\n",
       "      <td>Transit Timing Variations</td>\n",
       "      <td>28</td>\n",
       "    </tr>\n",
       "  </tbody>\n",
       "</table>\n",
       "</div>"
      ],
      "text/plain": [
       "                      method_name  method_count\n",
       "0                      Astrometry             3\n",
       "1                 Disk Kinematics             1\n",
       "2       Eclipse Timing Variations            17\n",
       "3                         Imaging            69\n",
       "4                    Microlensing           205\n",
       "5   Orbital Brightness Modulation             9\n",
       "6                   Pulsar Timing             7\n",
       "7     Pulsation Timing Variations             2\n",
       "8                 Radial Velocity          1075\n",
       "9                         Transit          4150\n",
       "10      Transit Timing Variations            28"
      ]
     },
     "execution_count": 28,
     "metadata": {},
     "output_type": "execute_result"
    }
   ],
   "source": [
    "df_method1 = pd.DataFrame(data, columns=['method_name','method_count'])\n",
    "df_method1"
   ]
  },
  {
   "cell_type": "code",
   "execution_count": 29,
   "id": "6dce2c6e-4f7e-4235-982f-c45c0f05c670",
   "metadata": {},
   "outputs": [
    {
     "data": {
      "application/vnd.plotly.v1+json": {
       "config": {
        "plotlyServerURL": "https://plot.ly"
       },
       "data": [
        {
         "domain": {
          "x": [
           0,
           1
          ],
          "y": [
           0,
           1
          ]
         },
         "hovertemplate": "method_name=%{label}<br>method_count=%{value}<extra></extra>",
         "labels": [
          "Astrometry",
          "Disk Kinematics",
          "Eclipse Timing Variations",
          "Imaging",
          "Microlensing",
          "Orbital Brightness Modulation",
          "Pulsar Timing",
          "Pulsation Timing Variations",
          "Radial Velocity",
          "Transit",
          "Transit Timing Variations"
         ],
         "legendgroup": "",
         "name": "",
         "showlegend": true,
         "type": "pie",
         "values": [
          3,
          1,
          17,
          69,
          205,
          9,
          7,
          2,
          1075,
          4150,
          28
         ]
        }
       ],
       "layout": {
        "autosize": true,
        "legend": {
         "tracegroupgap": 0
        },
        "margin": {
         "t": 60
        },
        "template": {
         "data": {
          "bar": [
           {
            "error_x": {
             "color": "#2a3f5f"
            },
            "error_y": {
             "color": "#2a3f5f"
            },
            "marker": {
             "line": {
              "color": "#E5ECF6",
              "width": 0.5
             },
             "pattern": {
              "fillmode": "overlay",
              "size": 10,
              "solidity": 0.2
             }
            },
            "type": "bar"
           }
          ],
          "barpolar": [
           {
            "marker": {
             "line": {
              "color": "#E5ECF6",
              "width": 0.5
             },
             "pattern": {
              "fillmode": "overlay",
              "size": 10,
              "solidity": 0.2
             }
            },
            "type": "barpolar"
           }
          ],
          "carpet": [
           {
            "aaxis": {
             "endlinecolor": "#2a3f5f",
             "gridcolor": "white",
             "linecolor": "white",
             "minorgridcolor": "white",
             "startlinecolor": "#2a3f5f"
            },
            "baxis": {
             "endlinecolor": "#2a3f5f",
             "gridcolor": "white",
             "linecolor": "white",
             "minorgridcolor": "white",
             "startlinecolor": "#2a3f5f"
            },
            "type": "carpet"
           }
          ],
          "choropleth": [
           {
            "colorbar": {
             "outlinewidth": 0,
             "ticks": ""
            },
            "type": "choropleth"
           }
          ],
          "contour": [
           {
            "colorbar": {
             "outlinewidth": 0,
             "ticks": ""
            },
            "colorscale": [
             [
              0,
              "#0d0887"
             ],
             [
              0.1111111111111111,
              "#46039f"
             ],
             [
              0.2222222222222222,
              "#7201a8"
             ],
             [
              0.3333333333333333,
              "#9c179e"
             ],
             [
              0.4444444444444444,
              "#bd3786"
             ],
             [
              0.5555555555555556,
              "#d8576b"
             ],
             [
              0.6666666666666666,
              "#ed7953"
             ],
             [
              0.7777777777777778,
              "#fb9f3a"
             ],
             [
              0.8888888888888888,
              "#fdca26"
             ],
             [
              1,
              "#f0f921"
             ]
            ],
            "type": "contour"
           }
          ],
          "contourcarpet": [
           {
            "colorbar": {
             "outlinewidth": 0,
             "ticks": ""
            },
            "type": "contourcarpet"
           }
          ],
          "heatmap": [
           {
            "colorbar": {
             "outlinewidth": 0,
             "ticks": ""
            },
            "colorscale": [
             [
              0,
              "#0d0887"
             ],
             [
              0.1111111111111111,
              "#46039f"
             ],
             [
              0.2222222222222222,
              "#7201a8"
             ],
             [
              0.3333333333333333,
              "#9c179e"
             ],
             [
              0.4444444444444444,
              "#bd3786"
             ],
             [
              0.5555555555555556,
              "#d8576b"
             ],
             [
              0.6666666666666666,
              "#ed7953"
             ],
             [
              0.7777777777777778,
              "#fb9f3a"
             ],
             [
              0.8888888888888888,
              "#fdca26"
             ],
             [
              1,
              "#f0f921"
             ]
            ],
            "type": "heatmap"
           }
          ],
          "heatmapgl": [
           {
            "colorbar": {
             "outlinewidth": 0,
             "ticks": ""
            },
            "colorscale": [
             [
              0,
              "#0d0887"
             ],
             [
              0.1111111111111111,
              "#46039f"
             ],
             [
              0.2222222222222222,
              "#7201a8"
             ],
             [
              0.3333333333333333,
              "#9c179e"
             ],
             [
              0.4444444444444444,
              "#bd3786"
             ],
             [
              0.5555555555555556,
              "#d8576b"
             ],
             [
              0.6666666666666666,
              "#ed7953"
             ],
             [
              0.7777777777777778,
              "#fb9f3a"
             ],
             [
              0.8888888888888888,
              "#fdca26"
             ],
             [
              1,
              "#f0f921"
             ]
            ],
            "type": "heatmapgl"
           }
          ],
          "histogram": [
           {
            "marker": {
             "pattern": {
              "fillmode": "overlay",
              "size": 10,
              "solidity": 0.2
             }
            },
            "type": "histogram"
           }
          ],
          "histogram2d": [
           {
            "colorbar": {
             "outlinewidth": 0,
             "ticks": ""
            },
            "colorscale": [
             [
              0,
              "#0d0887"
             ],
             [
              0.1111111111111111,
              "#46039f"
             ],
             [
              0.2222222222222222,
              "#7201a8"
             ],
             [
              0.3333333333333333,
              "#9c179e"
             ],
             [
              0.4444444444444444,
              "#bd3786"
             ],
             [
              0.5555555555555556,
              "#d8576b"
             ],
             [
              0.6666666666666666,
              "#ed7953"
             ],
             [
              0.7777777777777778,
              "#fb9f3a"
             ],
             [
              0.8888888888888888,
              "#fdca26"
             ],
             [
              1,
              "#f0f921"
             ]
            ],
            "type": "histogram2d"
           }
          ],
          "histogram2dcontour": [
           {
            "colorbar": {
             "outlinewidth": 0,
             "ticks": ""
            },
            "colorscale": [
             [
              0,
              "#0d0887"
             ],
             [
              0.1111111111111111,
              "#46039f"
             ],
             [
              0.2222222222222222,
              "#7201a8"
             ],
             [
              0.3333333333333333,
              "#9c179e"
             ],
             [
              0.4444444444444444,
              "#bd3786"
             ],
             [
              0.5555555555555556,
              "#d8576b"
             ],
             [
              0.6666666666666666,
              "#ed7953"
             ],
             [
              0.7777777777777778,
              "#fb9f3a"
             ],
             [
              0.8888888888888888,
              "#fdca26"
             ],
             [
              1,
              "#f0f921"
             ]
            ],
            "type": "histogram2dcontour"
           }
          ],
          "mesh3d": [
           {
            "colorbar": {
             "outlinewidth": 0,
             "ticks": ""
            },
            "type": "mesh3d"
           }
          ],
          "parcoords": [
           {
            "line": {
             "colorbar": {
              "outlinewidth": 0,
              "ticks": ""
             }
            },
            "type": "parcoords"
           }
          ],
          "pie": [
           {
            "automargin": true,
            "type": "pie"
           }
          ],
          "scatter": [
           {
            "fillpattern": {
             "fillmode": "overlay",
             "size": 10,
             "solidity": 0.2
            },
            "type": "scatter"
           }
          ],
          "scatter3d": [
           {
            "line": {
             "colorbar": {
              "outlinewidth": 0,
              "ticks": ""
             }
            },
            "marker": {
             "colorbar": {
              "outlinewidth": 0,
              "ticks": ""
             }
            },
            "type": "scatter3d"
           }
          ],
          "scattercarpet": [
           {
            "marker": {
             "colorbar": {
              "outlinewidth": 0,
              "ticks": ""
             }
            },
            "type": "scattercarpet"
           }
          ],
          "scattergeo": [
           {
            "marker": {
             "colorbar": {
              "outlinewidth": 0,
              "ticks": ""
             }
            },
            "type": "scattergeo"
           }
          ],
          "scattergl": [
           {
            "marker": {
             "colorbar": {
              "outlinewidth": 0,
              "ticks": ""
             }
            },
            "type": "scattergl"
           }
          ],
          "scattermapbox": [
           {
            "marker": {
             "colorbar": {
              "outlinewidth": 0,
              "ticks": ""
             }
            },
            "type": "scattermapbox"
           }
          ],
          "scatterpolar": [
           {
            "marker": {
             "colorbar": {
              "outlinewidth": 0,
              "ticks": ""
             }
            },
            "type": "scatterpolar"
           }
          ],
          "scatterpolargl": [
           {
            "marker": {
             "colorbar": {
              "outlinewidth": 0,
              "ticks": ""
             }
            },
            "type": "scatterpolargl"
           }
          ],
          "scatterternary": [
           {
            "marker": {
             "colorbar": {
              "outlinewidth": 0,
              "ticks": ""
             }
            },
            "type": "scatterternary"
           }
          ],
          "surface": [
           {
            "colorbar": {
             "outlinewidth": 0,
             "ticks": ""
            },
            "colorscale": [
             [
              0,
              "#0d0887"
             ],
             [
              0.1111111111111111,
              "#46039f"
             ],
             [
              0.2222222222222222,
              "#7201a8"
             ],
             [
              0.3333333333333333,
              "#9c179e"
             ],
             [
              0.4444444444444444,
              "#bd3786"
             ],
             [
              0.5555555555555556,
              "#d8576b"
             ],
             [
              0.6666666666666666,
              "#ed7953"
             ],
             [
              0.7777777777777778,
              "#fb9f3a"
             ],
             [
              0.8888888888888888,
              "#fdca26"
             ],
             [
              1,
              "#f0f921"
             ]
            ],
            "type": "surface"
           }
          ],
          "table": [
           {
            "cells": {
             "fill": {
              "color": "#EBF0F8"
             },
             "line": {
              "color": "white"
             }
            },
            "header": {
             "fill": {
              "color": "#C8D4E3"
             },
             "line": {
              "color": "white"
             }
            },
            "type": "table"
           }
          ]
         },
         "layout": {
          "annotationdefaults": {
           "arrowcolor": "#2a3f5f",
           "arrowhead": 0,
           "arrowwidth": 1
          },
          "autotypenumbers": "strict",
          "coloraxis": {
           "colorbar": {
            "outlinewidth": 0,
            "ticks": ""
           }
          },
          "colorscale": {
           "diverging": [
            [
             0,
             "#8e0152"
            ],
            [
             0.1,
             "#c51b7d"
            ],
            [
             0.2,
             "#de77ae"
            ],
            [
             0.3,
             "#f1b6da"
            ],
            [
             0.4,
             "#fde0ef"
            ],
            [
             0.5,
             "#f7f7f7"
            ],
            [
             0.6,
             "#e6f5d0"
            ],
            [
             0.7,
             "#b8e186"
            ],
            [
             0.8,
             "#7fbc41"
            ],
            [
             0.9,
             "#4d9221"
            ],
            [
             1,
             "#276419"
            ]
           ],
           "sequential": [
            [
             0,
             "#0d0887"
            ],
            [
             0.1111111111111111,
             "#46039f"
            ],
            [
             0.2222222222222222,
             "#7201a8"
            ],
            [
             0.3333333333333333,
             "#9c179e"
            ],
            [
             0.4444444444444444,
             "#bd3786"
            ],
            [
             0.5555555555555556,
             "#d8576b"
            ],
            [
             0.6666666666666666,
             "#ed7953"
            ],
            [
             0.7777777777777778,
             "#fb9f3a"
            ],
            [
             0.8888888888888888,
             "#fdca26"
            ],
            [
             1,
             "#f0f921"
            ]
           ],
           "sequentialminus": [
            [
             0,
             "#0d0887"
            ],
            [
             0.1111111111111111,
             "#46039f"
            ],
            [
             0.2222222222222222,
             "#7201a8"
            ],
            [
             0.3333333333333333,
             "#9c179e"
            ],
            [
             0.4444444444444444,
             "#bd3786"
            ],
            [
             0.5555555555555556,
             "#d8576b"
            ],
            [
             0.6666666666666666,
             "#ed7953"
            ],
            [
             0.7777777777777778,
             "#fb9f3a"
            ],
            [
             0.8888888888888888,
             "#fdca26"
            ],
            [
             1,
             "#f0f921"
            ]
           ]
          },
          "colorway": [
           "#636efa",
           "#EF553B",
           "#00cc96",
           "#ab63fa",
           "#FFA15A",
           "#19d3f3",
           "#FF6692",
           "#B6E880",
           "#FF97FF",
           "#FECB52"
          ],
          "font": {
           "color": "#2a3f5f"
          },
          "geo": {
           "bgcolor": "white",
           "lakecolor": "white",
           "landcolor": "#E5ECF6",
           "showlakes": true,
           "showland": true,
           "subunitcolor": "white"
          },
          "hoverlabel": {
           "align": "left"
          },
          "hovermode": "closest",
          "mapbox": {
           "style": "light"
          },
          "paper_bgcolor": "white",
          "plot_bgcolor": "#E5ECF6",
          "polar": {
           "angularaxis": {
            "gridcolor": "white",
            "linecolor": "white",
            "ticks": ""
           },
           "bgcolor": "#E5ECF6",
           "radialaxis": {
            "gridcolor": "white",
            "linecolor": "white",
            "ticks": ""
           }
          },
          "scene": {
           "xaxis": {
            "backgroundcolor": "#E5ECF6",
            "gridcolor": "white",
            "gridwidth": 2,
            "linecolor": "white",
            "showbackground": true,
            "ticks": "",
            "zerolinecolor": "white"
           },
           "yaxis": {
            "backgroundcolor": "#E5ECF6",
            "gridcolor": "white",
            "gridwidth": 2,
            "linecolor": "white",
            "showbackground": true,
            "ticks": "",
            "zerolinecolor": "white"
           },
           "zaxis": {
            "backgroundcolor": "#E5ECF6",
            "gridcolor": "white",
            "gridwidth": 2,
            "linecolor": "white",
            "showbackground": true,
            "ticks": "",
            "zerolinecolor": "white"
           }
          },
          "shapedefaults": {
           "line": {
            "color": "#2a3f5f"
           }
          },
          "ternary": {
           "aaxis": {
            "gridcolor": "white",
            "linecolor": "white",
            "ticks": ""
           },
           "baxis": {
            "gridcolor": "white",
            "linecolor": "white",
            "ticks": ""
           },
           "bgcolor": "#E5ECF6",
           "caxis": {
            "gridcolor": "white",
            "linecolor": "white",
            "ticks": ""
           }
          },
          "title": {
           "x": 0.05
          },
          "xaxis": {
           "automargin": true,
           "gridcolor": "white",
           "linecolor": "white",
           "ticks": "",
           "title": {
            "standoff": 15
           },
           "zerolinecolor": "white",
           "zerolinewidth": 2
          },
          "yaxis": {
           "automargin": true,
           "gridcolor": "white",
           "linecolor": "white",
           "ticks": "",
           "title": {
            "standoff": 15
           },
           "zerolinecolor": "white",
           "zerolinewidth": 2
          }
         }
        }
       }
      },
      "image/png": "[encoded data removed]",
      "text/html": [
       "<div>                            <div id=\"3ef59886-b5c2-45b7-8e4e-08e7b1589512\" class=\"plotly-graph-div\" style=\"height:525px; width:100%;\"></div>            <script type=\"text/javascript\">                require([\"plotly\"], function(Plotly) {                    window.PLOTLYENV=window.PLOTLYENV || {};                                    if (document.getElementById(\"3ef59886-b5c2-45b7-8e4e-08e7b1589512\")) {                    Plotly.newPlot(                        \"3ef59886-b5c2-45b7-8e4e-08e7b1589512\",                        [{\"domain\":{\"x\":[0.0,1.0],\"y\":[0.0,1.0]},\"hovertemplate\":\"method_name=%{label}\\u003cbr\\u003emethod_count=%{value}\\u003cextra\\u003e\\u003c\\u002fextra\\u003e\",\"labels\":[\"Astrometry\",\"Disk Kinematics\",\"Eclipse Timing Variations\",\"Imaging\",\"Microlensing\",\"Orbital Brightness Modulation\",\"Pulsar Timing\",\"Pulsation Timing Variations\",\"Radial Velocity\",\"Transit\",\"Transit Timing Variations\"],\"legendgroup\":\"\",\"name\":\"\",\"showlegend\":true,\"values\":[3,1,17,69,205,9,7,2,1075,4150,28],\"type\":\"pie\"}],                        {\"template\":{\"data\":{\"histogram2dcontour\":[{\"type\":\"histogram2dcontour\",\"colorbar\":{\"outlinewidth\":0,\"ticks\":\"\"},\"colorscale\":[[0.0,\"#0d0887\"],[0.1111111111111111,\"#46039f\"],[0.2222222222222222,\"#7201a8\"],[0.3333333333333333,\"#9c179e\"],[0.4444444444444444,\"#bd3786\"],[0.5555555555555556,\"#d8576b\"],[0.6666666666666666,\"#ed7953\"],[0.7777777777777778,\"#fb9f3a\"],[0.8888888888888888,\"#fdca26\"],[1.0,\"#f0f921\"]]}],\"choropleth\":[{\"type\":\"choropleth\",\"colorbar\":{\"outlinewidth\":0,\"ticks\":\"\"}}],\"histogram2d\":[{\"type\":\"histogram2d\",\"colorbar\":{\"outlinewidth\":0,\"ticks\":\"\"},\"colorscale\":[[0.0,\"#0d0887\"],[0.1111111111111111,\"#46039f\"],[0.2222222222222222,\"#7201a8\"],[0.3333333333333333,\"#9c179e\"],[0.4444444444444444,\"#bd3786\"],[0.5555555555555556,\"#d8576b\"],[0.6666666666666666,\"#ed7953\"],[0.7777777777777778,\"#fb9f3a\"],[0.8888888888888888,\"#fdca26\"],[1.0,\"#f0f921\"]]}],\"heatmap\":[{\"type\":\"heatmap\",\"colorbar\":{\"outlinewidth\":0,\"ticks\":\"\"},\"colorscale\":[[0.0,\"#0d0887\"],[0.1111111111111111,\"#46039f\"],[0.2222222222222222,\"#7201a8\"],[0.3333333333333333,\"#9c179e\"],[0.4444444444444444,\"#bd3786\"],[0.5555555555555556,\"#d8576b\"],[0.6666666666666666,\"#ed7953\"],[0.7777777777777778,\"#fb9f3a\"],[0.8888888888888888,\"#fdca26\"],[1.0,\"#f0f921\"]]}],\"heatmapgl\":[{\"type\":\"heatmapgl\",\"colorbar\":{\"outlinewidth\":0,\"ticks\":\"\"},\"colorscale\":[[0.0,\"#0d0887\"],[0.1111111111111111,\"#46039f\"],[0.2222222222222222,\"#7201a8\"],[0.3333333333333333,\"#9c179e\"],[0.4444444444444444,\"#bd3786\"],[0.5555555555555556,\"#d8576b\"],[0.6666666666666666,\"#ed7953\"],[0.7777777777777778,\"#fb9f3a\"],[0.8888888888888888,\"#fdca26\"],[1.0,\"#f0f921\"]]}],\"contourcarpet\":[{\"type\":\"contourcarpet\",\"colorbar\":{\"outlinewidth\":0,\"ticks\":\"\"}}],\"contour\":[{\"type\":\"contour\",\"colorbar\":{\"outlinewidth\":0,\"ticks\":\"\"},\"colorscale\":[[0.0,\"#0d0887\"],[0.1111111111111111,\"#46039f\"],[0.2222222222222222,\"#7201a8\"],[0.3333333333333333,\"#9c179e\"],[0.4444444444444444,\"#bd3786\"],[0.5555555555555556,\"#d8576b\"],[0.6666666666666666,\"#ed7953\"],[0.7777777777777778,\"#fb9f3a\"],[0.8888888888888888,\"#fdca26\"],[1.0,\"#f0f921\"]]}],\"surface\":[{\"type\":\"surface\",\"colorbar\":{\"outlinewidth\":0,\"ticks\":\"\"},\"colorscale\":[[0.0,\"#0d0887\"],[0.1111111111111111,\"#46039f\"],[0.2222222222222222,\"#7201a8\"],[0.3333333333333333,\"#9c179e\"],[0.4444444444444444,\"#bd3786\"],[0.5555555555555556,\"#d8576b\"],[0.6666666666666666,\"#ed7953\"],[0.7777777777777778,\"#fb9f3a\"],[0.8888888888888888,\"#fdca26\"],[1.0,\"#f0f921\"]]}],\"mesh3d\":[{\"type\":\"mesh3d\",\"colorbar\":{\"outlinewidth\":0,\"ticks\":\"\"}}],\"scatter\":[{\"fillpattern\":{\"fillmode\":\"overlay\",\"size\":10,\"solidity\":0.2},\"type\":\"scatter\"}],\"parcoords\":[{\"type\":\"parcoords\",\"line\":{\"colorbar\":{\"outlinewidth\":0,\"ticks\":\"\"}}}],\"scatterpolargl\":[{\"type\":\"scatterpolargl\",\"marker\":{\"colorbar\":{\"outlinewidth\":0,\"ticks\":\"\"}}}],\"bar\":[{\"error_x\":{\"color\":\"#2a3f5f\"},\"error_y\":{\"color\":\"#2a3f5f\"},\"marker\":{\"line\":{\"color\":\"#E5ECF6\",\"width\":0.5},\"pattern\":{\"fillmode\":\"overlay\",\"size\":10,\"solidity\":0.2}},\"type\":\"bar\"}],\"scattergeo\":[{\"type\":\"scattergeo\",\"marker\":{\"colorbar\":{\"outlinewidth\":0,\"ticks\":\"\"}}}],\"scatterpolar\":[{\"type\":\"scatterpolar\",\"marker\":{\"colorbar\":{\"outlinewidth\":0,\"ticks\":\"\"}}}],\"histogram\":[{\"marker\":{\"pattern\":{\"fillmode\":\"overlay\",\"size\":10,\"solidity\":0.2}},\"type\":\"histogram\"}],\"scattergl\":[{\"type\":\"scattergl\",\"marker\":{\"colorbar\":{\"outlinewidth\":0,\"ticks\":\"\"}}}],\"scatter3d\":[{\"type\":\"scatter3d\",\"line\":{\"colorbar\":{\"outlinewidth\":0,\"ticks\":\"\"}},\"marker\":{\"colorbar\":{\"outlinewidth\":0,\"ticks\":\"\"}}}],\"scattermapbox\":[{\"type\":\"scattermapbox\",\"marker\":{\"colorbar\":{\"outlinewidth\":0,\"ticks\":\"\"}}}],\"scatterternary\":[{\"type\":\"scatterternary\",\"marker\":{\"colorbar\":{\"outlinewidth\":0,\"ticks\":\"\"}}}],\"scattercarpet\":[{\"type\":\"scattercarpet\",\"marker\":{\"colorbar\":{\"outlinewidth\":0,\"ticks\":\"\"}}}],\"carpet\":[{\"aaxis\":{\"endlinecolor\":\"#2a3f5f\",\"gridcolor\":\"white\",\"linecolor\":\"white\",\"minorgridcolor\":\"white\",\"startlinecolor\":\"#2a3f5f\"},\"baxis\":{\"endlinecolor\":\"#2a3f5f\",\"gridcolor\":\"white\",\"linecolor\":\"white\",\"minorgridcolor\":\"white\",\"startlinecolor\":\"#2a3f5f\"},\"type\":\"carpet\"}],\"table\":[{\"cells\":{\"fill\":{\"color\":\"#EBF0F8\"},\"line\":{\"color\":\"white\"}},\"header\":{\"fill\":{\"color\":\"#C8D4E3\"},\"line\":{\"color\":\"white\"}},\"type\":\"table\"}],\"barpolar\":[{\"marker\":{\"line\":{\"color\":\"#E5ECF6\",\"width\":0.5},\"pattern\":{\"fillmode\":\"overlay\",\"size\":10,\"solidity\":0.2}},\"type\":\"barpolar\"}],\"pie\":[{\"automargin\":true,\"type\":\"pie\"}]},\"layout\":{\"autotypenumbers\":\"strict\",\"colorway\":[\"#636efa\",\"#EF553B\",\"#00cc96\",\"#ab63fa\",\"#FFA15A\",\"#19d3f3\",\"#FF6692\",\"#B6E880\",\"#FF97FF\",\"#FECB52\"],\"font\":{\"color\":\"#2a3f5f\"},\"hovermode\":\"closest\",\"hoverlabel\":{\"align\":\"left\"},\"paper_bgcolor\":\"white\",\"plot_bgcolor\":\"#E5ECF6\",\"polar\":{\"bgcolor\":\"#E5ECF6\",\"angularaxis\":{\"gridcolor\":\"white\",\"linecolor\":\"white\",\"ticks\":\"\"},\"radialaxis\":{\"gridcolor\":\"white\",\"linecolor\":\"white\",\"ticks\":\"\"}},\"ternary\":{\"bgcolor\":\"#E5ECF6\",\"aaxis\":{\"gridcolor\":\"white\",\"linecolor\":\"white\",\"ticks\":\"\"},\"baxis\":{\"gridcolor\":\"white\",\"linecolor\":\"white\",\"ticks\":\"\"},\"caxis\":{\"gridcolor\":\"white\",\"linecolor\":\"white\",\"ticks\":\"\"}},\"coloraxis\":{\"colorbar\":{\"outlinewidth\":0,\"ticks\":\"\"}},\"colorscale\":{\"sequential\":[[0.0,\"#0d0887\"],[0.1111111111111111,\"#46039f\"],[0.2222222222222222,\"#7201a8\"],[0.3333333333333333,\"#9c179e\"],[0.4444444444444444,\"#bd3786\"],[0.5555555555555556,\"#d8576b\"],[0.6666666666666666,\"#ed7953\"],[0.7777777777777778,\"#fb9f3a\"],[0.8888888888888888,\"#fdca26\"],[1.0,\"#f0f921\"]],\"sequentialminus\":[[0.0,\"#0d0887\"],[0.1111111111111111,\"#46039f\"],[0.2222222222222222,\"#7201a8\"],[0.3333333333333333,\"#9c179e\"],[0.4444444444444444,\"#bd3786\"],[0.5555555555555556,\"#d8576b\"],[0.6666666666666666,\"#ed7953\"],[0.7777777777777778,\"#fb9f3a\"],[0.8888888888888888,\"#fdca26\"],[1.0,\"#f0f921\"]],\"diverging\":[[0,\"#8e0152\"],[0.1,\"#c51b7d\"],[0.2,\"#de77ae\"],[0.3,\"#f1b6da\"],[0.4,\"#fde0ef\"],[0.5,\"#f7f7f7\"],[0.6,\"#e6f5d0\"],[0.7,\"#b8e186\"],[0.8,\"#7fbc41\"],[0.9,\"#4d9221\"],[1,\"#276419\"]]},\"xaxis\":{\"gridcolor\":\"white\",\"linecolor\":\"white\",\"ticks\":\"\",\"title\":{\"standoff\":15},\"zerolinecolor\":\"white\",\"automargin\":true,\"zerolinewidth\":2},\"yaxis\":{\"gridcolor\":\"white\",\"linecolor\":\"white\",\"ticks\":\"\",\"title\":{\"standoff\":15},\"zerolinecolor\":\"white\",\"automargin\":true,\"zerolinewidth\":2},\"scene\":{\"xaxis\":{\"backgroundcolor\":\"#E5ECF6\",\"gridcolor\":\"white\",\"linecolor\":\"white\",\"showbackground\":true,\"ticks\":\"\",\"zerolinecolor\":\"white\",\"gridwidth\":2},\"yaxis\":{\"backgroundcolor\":\"#E5ECF6\",\"gridcolor\":\"white\",\"linecolor\":\"white\",\"showbackground\":true,\"ticks\":\"\",\"zerolinecolor\":\"white\",\"gridwidth\":2},\"zaxis\":{\"backgroundcolor\":\"#E5ECF6\",\"gridcolor\":\"white\",\"linecolor\":\"white\",\"showbackground\":true,\"ticks\":\"\",\"zerolinecolor\":\"white\",\"gridwidth\":2}},\"shapedefaults\":{\"line\":{\"color\":\"#2a3f5f\"}},\"annotationdefaults\":{\"arrowcolor\":\"#2a3f5f\",\"arrowhead\":0,\"arrowwidth\":1},\"geo\":{\"bgcolor\":\"white\",\"landcolor\":\"#E5ECF6\",\"subunitcolor\":\"white\",\"showland\":true,\"showlakes\":true,\"lakecolor\":\"white\"},\"title\":{\"x\":0.05},\"mapbox\":{\"style\":\"light\"}}},\"legend\":{\"tracegroupgap\":0},\"margin\":{\"t\":60}},                        {\"responsive\": true}                    ).then(function(){\n",
       "                            \n",
       "var gd = document.getElementById('3ef59886-b5c2-45b7-8e4e-08e7b1589512');\n",
       "var x = new MutationObserver(function (mutations, observer) {{\n",
       "        var display = window.getComputedStyle(gd).display;\n",
       "        if (!display || display === 'none') {{\n",
       "            console.log([gd, 'removed!']);\n",
       "            Plotly.purge(gd);\n",
       "            observer.disconnect();\n",
       "        }}\n",
       "}});\n",
       "\n",
       "// Listen for the removal of the full notebook cells\n",
       "var notebookContainer = gd.closest('#notebook-container');\n",
       "if (notebookContainer) {{\n",
       "    x.observe(notebookContainer, {childList: true});\n",
       "}}\n",
       "\n",
       "// Listen for the clearing of the current output cell\n",
       "var outputEl = gd.closest('.output');\n",
       "if (outputEl) {{\n",
       "    x.observe(outputEl, {childList: true});\n",
       "}}\n",
       "\n",
       "                        })                };                });            </script>        </div>"
      ]
     },
     "metadata": {},
     "output_type": "display_data"
    }
   ],
   "source": [
    "fig = px.pie(df_method1, values='method_count', names='method_name')\n",
    "fig.show()"
   ]
  },
  {
   "cell_type": "code",
   "execution_count": 30,
   "id": "62286b45-3f86-4d84-9ea0-0b4c4394559c",
   "metadata": {},
   "outputs": [
    {
     "data": {
      "text/plain": [
       "disc_year  discoverymethod          \n",
       "1992       Pulsar Timing                  2\n",
       "1994       Pulsar Timing                  1\n",
       "1995       Radial Velocity                1\n",
       "1996       Radial Velocity                6\n",
       "1997       Radial Velocity                1\n",
       "                                       ... \n",
       "2023       Imaging                        7\n",
       "           Microlensing                  24\n",
       "           Radial Velocity               52\n",
       "           Transit                      213\n",
       "           Transit Timing Variations      4\n",
       "Name: pl_name, Length: 122, dtype: int64"
      ]
     },
     "execution_count": 30,
     "metadata": {},
     "output_type": "execute_result"
    }
   ],
   "source": [
    "df_method2 = df7.groupby(['disc_year','discoverymethod'])['pl_name'].count()\n",
    "df_method2"
   ]
  },
  {
   "cell_type": "code",
   "execution_count": 31,
   "id": "3c9eda41-193c-4daa-8e19-4112f4fc77bd",
   "metadata": {},
   "outputs": [
    {
     "data": {
      "text/plain": [
       "pandas.core.series.Series"
      ]
     },
     "execution_count": 31,
     "metadata": {},
     "output_type": "execute_result"
    }
   ],
   "source": [
    "type(df_method2)"
   ]
  },
  {
   "cell_type": "code",
   "execution_count": 32,
   "id": "f79ad09b-68ac-46f8-beba-95fda14434ae",
   "metadata": {},
   "outputs": [
    {
     "data": {
      "text/html": [
       "<div>\n",
       "<style scoped>\n",
       "    .dataframe tbody tr th:only-of-type {\n",
       "        vertical-align: middle;\n",
       "    }\n",
       "\n",
       "    .dataframe tbody tr th {\n",
       "        vertical-align: top;\n",
       "    }\n",
       "\n",
       "    .dataframe thead th {\n",
       "        text-align: right;\n",
       "    }\n",
       "</style>\n",
       "<table border=\"1\" class=\"dataframe\">\n",
       "  <thead>\n",
       "    <tr style=\"text-align: right;\">\n",
       "      <th></th>\n",
       "      <th></th>\n",
       "      <th>nb_planets</th>\n",
       "    </tr>\n",
       "    <tr>\n",
       "      <th>disc_year</th>\n",
       "      <th>discoverymethod</th>\n",
       "      <th></th>\n",
       "    </tr>\n",
       "  </thead>\n",
       "  <tbody>\n",
       "    <tr>\n",
       "      <th>1992</th>\n",
       "      <th>Pulsar Timing</th>\n",
       "      <td>2</td>\n",
       "    </tr>\n",
       "    <tr>\n",
       "      <th>1994</th>\n",
       "      <th>Pulsar Timing</th>\n",
       "      <td>1</td>\n",
       "    </tr>\n",
       "    <tr>\n",
       "      <th>1995</th>\n",
       "      <th>Radial Velocity</th>\n",
       "      <td>1</td>\n",
       "    </tr>\n",
       "    <tr>\n",
       "      <th>1996</th>\n",
       "      <th>Radial Velocity</th>\n",
       "      <td>6</td>\n",
       "    </tr>\n",
       "    <tr>\n",
       "      <th>1997</th>\n",
       "      <th>Radial Velocity</th>\n",
       "      <td>1</td>\n",
       "    </tr>\n",
       "    <tr>\n",
       "      <th>...</th>\n",
       "      <th>...</th>\n",
       "      <td>...</td>\n",
       "    </tr>\n",
       "    <tr>\n",
       "      <th rowspan=\"5\" valign=\"top\">2023</th>\n",
       "      <th>Imaging</th>\n",
       "      <td>7</td>\n",
       "    </tr>\n",
       "    <tr>\n",
       "      <th>Microlensing</th>\n",
       "      <td>24</td>\n",
       "    </tr>\n",
       "    <tr>\n",
       "      <th>Radial Velocity</th>\n",
       "      <td>52</td>\n",
       "    </tr>\n",
       "    <tr>\n",
       "      <th>Transit</th>\n",
       "      <td>213</td>\n",
       "    </tr>\n",
       "    <tr>\n",
       "      <th>Transit Timing Variations</th>\n",
       "      <td>4</td>\n",
       "    </tr>\n",
       "  </tbody>\n",
       "</table>\n",
       "<p>122 rows × 1 columns</p>\n",
       "</div>"
      ],
      "text/plain": [
       "                                     nb_planets\n",
       "disc_year discoverymethod                      \n",
       "1992      Pulsar Timing                       2\n",
       "1994      Pulsar Timing                       1\n",
       "1995      Radial Velocity                     1\n",
       "1996      Radial Velocity                     6\n",
       "1997      Radial Velocity                     1\n",
       "...                                         ...\n",
       "2023      Imaging                             7\n",
       "          Microlensing                       24\n",
       "          Radial Velocity                    52\n",
       "          Transit                           213\n",
       "          Transit Timing Variations           4\n",
       "\n",
       "[122 rows x 1 columns]"
      ]
     },
     "execution_count": 32,
     "metadata": {},
     "output_type": "execute_result"
    }
   ],
   "source": [
    "df_method3 = df_method2.to_frame(name=\"nb_planets\")\n",
    "df_method3"
   ]
  },
  {
   "cell_type": "code",
   "execution_count": 33,
   "id": "c2713cd3-3ea4-49c7-9301-13c29cc13a1c",
   "metadata": {},
   "outputs": [
    {
     "name": "stderr",
     "output_type": "stream",
     "text": [
      "C:\\Users\\33689\\AppData\\Local\\Temp\\ipykernel_6604\\3860279918.py:2: SettingWithCopyWarning:\n",
      "\n",
      "\n",
      "A value is trying to be set on a copy of a slice from a DataFrame.\n",
      "Try using .loc[row_indexer,col_indexer] = value instead\n",
      "\n",
      "See the caveats in the documentation: https://pandas.pydata.org/pandas-docs/stable/user_guide/indexing.html#returning-a-view-versus-a-copy\n",
      "\n"
     ]
    },
    {
     "data": {
      "text/html": [
       "<div>\n",
       "<style scoped>\n",
       "    .dataframe tbody tr th:only-of-type {\n",
       "        vertical-align: middle;\n",
       "    }\n",
       "\n",
       "    .dataframe tbody tr th {\n",
       "        vertical-align: top;\n",
       "    }\n",
       "\n",
       "    .dataframe thead th {\n",
       "        text-align: right;\n",
       "    }\n",
       "</style>\n",
       "<table border=\"1\" class=\"dataframe\">\n",
       "  <thead>\n",
       "    <tr style=\"text-align: right;\">\n",
       "      <th></th>\n",
       "      <th>discoverymethod</th>\n",
       "      <th>disc_year</th>\n",
       "      <th>pl</th>\n",
       "    </tr>\n",
       "  </thead>\n",
       "  <tbody>\n",
       "    <tr>\n",
       "      <th>0</th>\n",
       "      <td>Radial Velocity</td>\n",
       "      <td>2023</td>\n",
       "      <td>1</td>\n",
       "    </tr>\n",
       "    <tr>\n",
       "      <th>1</th>\n",
       "      <td>Imaging</td>\n",
       "      <td>2023</td>\n",
       "      <td>1</td>\n",
       "    </tr>\n",
       "    <tr>\n",
       "      <th>2</th>\n",
       "      <td>Transit Timing Variations</td>\n",
       "      <td>2023</td>\n",
       "      <td>1</td>\n",
       "    </tr>\n",
       "    <tr>\n",
       "      <th>3</th>\n",
       "      <td>Radial Velocity</td>\n",
       "      <td>2023</td>\n",
       "      <td>1</td>\n",
       "    </tr>\n",
       "    <tr>\n",
       "      <th>4</th>\n",
       "      <td>Radial Velocity</td>\n",
       "      <td>2023</td>\n",
       "      <td>1</td>\n",
       "    </tr>\n",
       "    <tr>\n",
       "      <th>...</th>\n",
       "      <td>...</td>\n",
       "      <td>...</td>\n",
       "      <td>...</td>\n",
       "    </tr>\n",
       "    <tr>\n",
       "      <th>5561</th>\n",
       "      <td>Radial Velocity</td>\n",
       "      <td>1996</td>\n",
       "      <td>1</td>\n",
       "    </tr>\n",
       "    <tr>\n",
       "      <th>5562</th>\n",
       "      <td>Radial Velocity</td>\n",
       "      <td>1995</td>\n",
       "      <td>1</td>\n",
       "    </tr>\n",
       "    <tr>\n",
       "      <th>5563</th>\n",
       "      <td>Pulsar Timing</td>\n",
       "      <td>1994</td>\n",
       "      <td>1</td>\n",
       "    </tr>\n",
       "    <tr>\n",
       "      <th>5564</th>\n",
       "      <td>Pulsar Timing</td>\n",
       "      <td>1992</td>\n",
       "      <td>1</td>\n",
       "    </tr>\n",
       "    <tr>\n",
       "      <th>5565</th>\n",
       "      <td>Pulsar Timing</td>\n",
       "      <td>1992</td>\n",
       "      <td>1</td>\n",
       "    </tr>\n",
       "  </tbody>\n",
       "</table>\n",
       "<p>5566 rows × 3 columns</p>\n",
       "</div>"
      ],
      "text/plain": [
       "                discoverymethod  disc_year  pl\n",
       "0               Radial Velocity       2023   1\n",
       "1                       Imaging       2023   1\n",
       "2     Transit Timing Variations       2023   1\n",
       "3               Radial Velocity       2023   1\n",
       "4               Radial Velocity       2023   1\n",
       "...                         ...        ...  ..\n",
       "5561            Radial Velocity       1996   1\n",
       "5562            Radial Velocity       1995   1\n",
       "5563              Pulsar Timing       1994   1\n",
       "5564              Pulsar Timing       1992   1\n",
       "5565              Pulsar Timing       1992   1\n",
       "\n",
       "[5566 rows x 3 columns]"
      ]
     },
     "execution_count": 33,
     "metadata": {},
     "output_type": "execute_result"
    }
   ],
   "source": [
    "df8 = df7[[\"discoverymethod\",\"disc_year\"]]\n",
    "df8[\"pl\"]=1\n",
    "df8"
   ]
  },
  {
   "cell_type": "code",
   "execution_count": 48,
   "id": "f78748ef-3768-469c-8ddf-c3569236d101",
   "metadata": {},
   "outputs": [
    {
     "data": {
      "text/html": [
       "<div>\n",
       "<style scoped>\n",
       "    .dataframe tbody tr th:only-of-type {\n",
       "        vertical-align: middle;\n",
       "    }\n",
       "\n",
       "    .dataframe tbody tr th {\n",
       "        vertical-align: top;\n",
       "    }\n",
       "\n",
       "    .dataframe thead th {\n",
       "        text-align: right;\n",
       "    }\n",
       "</style>\n",
       "<table border=\"1\" class=\"dataframe\">\n",
       "  <thead>\n",
       "    <tr style=\"text-align: right;\">\n",
       "      <th></th>\n",
       "      <th>discoverymethod</th>\n",
       "      <th>disc_year</th>\n",
       "      <th>pl</th>\n",
       "    </tr>\n",
       "  </thead>\n",
       "  <tbody>\n",
       "    <tr>\n",
       "      <th>0</th>\n",
       "      <td>Astrometry</td>\n",
       "      <td>2013</td>\n",
       "      <td>1</td>\n",
       "    </tr>\n",
       "    <tr>\n",
       "      <th>1</th>\n",
       "      <td>Astrometry</td>\n",
       "      <td>2022</td>\n",
       "      <td>1</td>\n",
       "    </tr>\n",
       "    <tr>\n",
       "      <th>2</th>\n",
       "      <td>Astrometry</td>\n",
       "      <td>2023</td>\n",
       "      <td>1</td>\n",
       "    </tr>\n",
       "    <tr>\n",
       "      <th>3</th>\n",
       "      <td>Disk Kinematics</td>\n",
       "      <td>2019</td>\n",
       "      <td>1</td>\n",
       "    </tr>\n",
       "    <tr>\n",
       "      <th>4</th>\n",
       "      <td>Eclipse Timing Variations</td>\n",
       "      <td>2009</td>\n",
       "      <td>1</td>\n",
       "    </tr>\n",
       "    <tr>\n",
       "      <th>...</th>\n",
       "      <td>...</td>\n",
       "      <td>...</td>\n",
       "      <td>...</td>\n",
       "    </tr>\n",
       "    <tr>\n",
       "      <th>117</th>\n",
       "      <td>Transit Timing Variations</td>\n",
       "      <td>2019</td>\n",
       "      <td>3</td>\n",
       "    </tr>\n",
       "    <tr>\n",
       "      <th>118</th>\n",
       "      <td>Transit Timing Variations</td>\n",
       "      <td>2020</td>\n",
       "      <td>1</td>\n",
       "    </tr>\n",
       "    <tr>\n",
       "      <th>119</th>\n",
       "      <td>Transit Timing Variations</td>\n",
       "      <td>2021</td>\n",
       "      <td>1</td>\n",
       "    </tr>\n",
       "    <tr>\n",
       "      <th>120</th>\n",
       "      <td>Transit Timing Variations</td>\n",
       "      <td>2022</td>\n",
       "      <td>2</td>\n",
       "    </tr>\n",
       "    <tr>\n",
       "      <th>121</th>\n",
       "      <td>Transit Timing Variations</td>\n",
       "      <td>2023</td>\n",
       "      <td>4</td>\n",
       "    </tr>\n",
       "  </tbody>\n",
       "</table>\n",
       "<p>122 rows × 3 columns</p>\n",
       "</div>"
      ],
      "text/plain": [
       "               discoverymethod  disc_year  pl\n",
       "0                   Astrometry       2013   1\n",
       "1                   Astrometry       2022   1\n",
       "2                   Astrometry       2023   1\n",
       "3              Disk Kinematics       2019   1\n",
       "4    Eclipse Timing Variations       2009   1\n",
       "..                         ...        ...  ..\n",
       "117  Transit Timing Variations       2019   3\n",
       "118  Transit Timing Variations       2020   1\n",
       "119  Transit Timing Variations       2021   1\n",
       "120  Transit Timing Variations       2022   2\n",
       "121  Transit Timing Variations       2023   4\n",
       "\n",
       "[122 rows x 3 columns]"
      ]
     },
     "execution_count": 48,
     "metadata": {},
     "output_type": "execute_result"
    }
   ],
   "source": [
    "df9 = df8.groupby(['discoverymethod','disc_year',],as_index=False)['pl'].sum()\n",
    "#df9=df8\n",
    "df9"
   ]
  },
  {
   "cell_type": "code",
   "execution_count": 61,
   "id": "a200adeb-a40c-464a-a161-173a714bc67f",
   "metadata": {},
   "outputs": [
    {
     "data": {
      "application/vnd.plotly.v1+json": {
       "config": {
        "plotlyServerURL": "https://plot.ly"
       },
       "data": [
        {
         "alignmentgroup": "True",
         "hovertemplate": "discoverymethod=Astrometry<br>année de découverte=%{x}<br>nombre de planetes=%{y}<extra></extra>",
         "legendgroup": "Astrometry",
         "marker": {
          "color": "#1F77B4",
          "opacity": 0.9,
          "pattern": {
           "shape": ""
          }
         },
         "name": "Astrometry",
         "offsetgroup": "Astrometry",
         "orientation": "v",
         "showlegend": true,
         "textposition": "auto",
         "type": "bar",
         "x": [
          2013,
          2022,
          2023
         ],
         "xaxis": "x",
         "y": [
          1,
          1,
          1
         ],
         "yaxis": "y"
        },
        {
         "alignmentgroup": "True",
         "hovertemplate": "discoverymethod=Disk Kinematics<br>année de découverte=%{x}<br>nombre de planetes=%{y}<extra></extra>",
         "legendgroup": "Disk Kinematics",
         "marker": {
          "color": "#FF7F0E",
          "opacity": 0.9,
          "pattern": {
           "shape": ""
          }
         },
         "name": "Disk Kinematics",
         "offsetgroup": "Disk Kinematics",
         "orientation": "v",
         "showlegend": true,
         "textposition": "auto",
         "type": "bar",
         "x": [
          2019
         ],
         "xaxis": "x",
         "y": [
          1
         ],
         "yaxis": "y"
        },
        {
         "alignmentgroup": "True",
         "hovertemplate": "discoverymethod=Eclipse Timing Variations<br>année de découverte=%{x}<br>nombre de planetes=%{y}<extra></extra>",
         "legendgroup": "Eclipse Timing Variations",
         "marker": {
          "color": "#2CA02C",
          "opacity": 0.9,
          "pattern": {
           "shape": ""
          }
         },
         "name": "Eclipse Timing Variations",
         "offsetgroup": "Eclipse Timing Variations",
         "orientation": "v",
         "showlegend": true,
         "textposition": "auto",
         "type": "bar",
         "x": [
          2009,
          2010,
          2011,
          2012,
          2015,
          2017,
          2018,
          2019,
          2022
         ],
         "xaxis": "x",
         "y": [
          1,
          2,
          5,
          1,
          1,
          2,
          1,
          2,
          2
         ],
         "yaxis": "y"
        },
        {
         "alignmentgroup": "True",
         "hovertemplate": "discoverymethod=Imaging<br>année de découverte=%{x}<br>nombre de planetes=%{y}<extra></extra>",
         "legendgroup": "Imaging",
         "marker": {
          "color": "#D62728",
          "opacity": 0.9,
          "pattern": {
           "shape": ""
          }
         },
         "name": "Imaging",
         "offsetgroup": "Imaging",
         "orientation": "v",
         "showlegend": true,
         "textposition": "auto",
         "type": "bar",
         "x": [
          2004,
          2005,
          2006,
          2007,
          2008,
          2010,
          2011,
          2012,
          2013,
          2014,
          2015,
          2016,
          2017,
          2018,
          2019,
          2020,
          2021,
          2022,
          2023
         ],
         "xaxis": "x",
         "y": [
          3,
          1,
          4,
          1,
          7,
          6,
          2,
          2,
          7,
          2,
          5,
          2,
          1,
          1,
          4,
          2,
          8,
          4,
          7
         ],
         "yaxis": "y"
        },
        {
         "alignmentgroup": "True",
         "hovertemplate": "discoverymethod=Microlensing<br>année de découverte=%{x}<br>nombre de planetes=%{y}<extra></extra>",
         "legendgroup": "Microlensing",
         "marker": {
          "color": "#9467BD",
          "opacity": 0.9,
          "pattern": {
           "shape": ""
          }
         },
         "name": "Microlensing",
         "offsetgroup": "Microlensing",
         "orientation": "v",
         "showlegend": true,
         "textposition": "auto",
         "type": "bar",
         "x": [
          2004,
          2005,
          2006,
          2008,
          2009,
          2010,
          2011,
          2012,
          2013,
          2014,
          2015,
          2016,
          2017,
          2018,
          2019,
          2020,
          2021,
          2022,
          2023
         ],
         "xaxis": "x",
         "y": [
          1,
          2,
          1,
          4,
          2,
          2,
          1,
          7,
          5,
          6,
          4,
          10,
          9,
          21,
          14,
          20,
          21,
          51,
          24
         ],
         "yaxis": "y"
        },
        {
         "alignmentgroup": "True",
         "hovertemplate": "discoverymethod=Orbital Brightness Modulation<br>année de découverte=%{x}<br>nombre de planetes=%{y}<extra></extra>",
         "legendgroup": "Orbital Brightness Modulation",
         "marker": {
          "color": "#8C564B",
          "opacity": 0.9,
          "pattern": {
           "shape": ""
          }
         },
         "name": "Orbital Brightness Modulation",
         "offsetgroup": "Orbital Brightness Modulation",
         "orientation": "v",
         "showlegend": true,
         "textposition": "auto",
         "type": "bar",
         "x": [
          2011,
          2013,
          2014,
          2021
         ],
         "xaxis": "x",
         "y": [
          2,
          1,
          3,
          3
         ],
         "yaxis": "y"
        },
        {
         "alignmentgroup": "True",
         "hovertemplate": "discoverymethod=Pulsar Timing<br>année de découverte=%{x}<br>nombre de planetes=%{y}<extra></extra>",
         "legendgroup": "Pulsar Timing",
         "marker": {
          "color": "#E377C2",
          "opacity": 0.9,
          "pattern": {
           "shape": ""
          }
         },
         "name": "Pulsar Timing",
         "offsetgroup": "Pulsar Timing",
         "orientation": "v",
         "showlegend": true,
         "textposition": "auto",
         "type": "bar",
         "x": [
          1992,
          1994,
          2003,
          2011,
          2017
         ],
         "xaxis": "x",
         "y": [
          2,
          1,
          1,
          1,
          2
         ],
         "yaxis": "y"
        },
        {
         "alignmentgroup": "True",
         "hovertemplate": "discoverymethod=Pulsation Timing Variations<br>année de découverte=%{x}<br>nombre de planetes=%{y}<extra></extra>",
         "legendgroup": "Pulsation Timing Variations",
         "marker": {
          "color": "#7F7F7F",
          "opacity": 0.9,
          "pattern": {
           "shape": ""
          }
         },
         "name": "Pulsation Timing Variations",
         "offsetgroup": "Pulsation Timing Variations",
         "orientation": "v",
         "showlegend": true,
         "textposition": "auto",
         "type": "bar",
         "x": [
          2007,
          2016
         ],
         "xaxis": "x",
         "y": [
          1,
          1
         ],
         "yaxis": "y"
        },
        {
         "alignmentgroup": "True",
         "hovertemplate": "discoverymethod=Radial Velocity<br>année de découverte=%{x}<br>nombre de planetes=%{y}<extra></extra>",
         "legendgroup": "Radial Velocity",
         "marker": {
          "color": "#BCBD22",
          "opacity": 0.9,
          "pattern": {
           "shape": ""
          }
         },
         "name": "Radial Velocity",
         "offsetgroup": "Radial Velocity",
         "orientation": "v",
         "showlegend": true,
         "textposition": "auto",
         "type": "bar",
         "x": [
          1995,
          1996,
          1997,
          1998,
          1999,
          2000,
          2001,
          2002,
          2003,
          2004,
          2005,
          2006,
          2007,
          2008,
          2009,
          2010,
          2011,
          2012,
          2013,
          2014,
          2015,
          2016,
          2017,
          2018,
          2019,
          2020,
          2021,
          2022,
          2023
         ],
         "xaxis": "x",
         "y": [
          1,
          6,
          1,
          6,
          13,
          16,
          12,
          28,
          21,
          18,
          33,
          21,
          34,
          37,
          73,
          41,
          45,
          35,
          33,
          50,
          46,
          50,
          49,
          47,
          66,
          45,
          78,
          118,
          52
         ],
         "yaxis": "y"
        },
        {
         "alignmentgroup": "True",
         "hovertemplate": "discoverymethod=Transit<br>année de découverte=%{x}<br>nombre de planetes=%{y}<extra></extra>",
         "legendgroup": "Transit",
         "marker": {
          "color": "#17BECF",
          "opacity": 0.9,
          "pattern": {
           "shape": ""
          }
         },
         "name": "Transit",
         "offsetgroup": "Transit",
         "orientation": "v",
         "showlegend": true,
         "textposition": "auto",
         "type": "bar",
         "x": [
          2002,
          2004,
          2006,
          2007,
          2008,
          2009,
          2010,
          2011,
          2012,
          2013,
          2014,
          2015,
          2016,
          2017,
          2018,
          2019,
          2020,
          2021,
          2022,
          2023
         ],
         "xaxis": "x",
         "y": [
          1,
          5,
          5,
          16,
          17,
          18,
          46,
          79,
          93,
          80,
          802,
          100,
          1453,
          89,
          253,
          113,
          165,
          415,
          187,
          213
         ],
         "yaxis": "y"
        },
        {
         "alignmentgroup": "True",
         "hovertemplate": "discoverymethod=Transit Timing Variations<br>année de découverte=%{x}<br>nombre de planetes=%{y}<extra></extra>",
         "legendgroup": "Transit Timing Variations",
         "marker": {
          "color": "#1F77B4",
          "opacity": 0.9,
          "pattern": {
           "shape": ""
          }
         },
         "name": "Transit Timing Variations",
         "offsetgroup": "Transit Timing Variations",
         "orientation": "v",
         "showlegend": true,
         "textposition": "auto",
         "type": "bar",
         "x": [
          2011,
          2012,
          2014,
          2016,
          2017,
          2018,
          2019,
          2020,
          2021,
          2022,
          2023
         ],
         "xaxis": "x",
         "y": [
          1,
          1,
          12,
          1,
          1,
          1,
          3,
          1,
          1,
          2,
          4
         ],
         "yaxis": "y"
        }
       ],
       "layout": {
        "barmode": "relative",
        "height": 720,
        "legend": {
         "title": {
          "text": "discoverymethod"
         },
         "tracegroupgap": 0,
         "x": 0,
         "y": 1
        },
        "template": {
         "data": {
          "pie": [
           {
            "automargin": true,
            "type": "pie"
           }
          ]
         },
         "layout": {
          "xaxis": {
           "showgrid": true,
           "title": {
            "standoff": 15
           }
          },
          "yaxis": {
           "showgrid": true,
           "title": {
            "standoff": 15
           }
          }
         }
        },
        "title": {
         "text": "nombre et methode de decouvertes d'exoplanetes "
        },
        "width": 1100,
        "xaxis": {
         "anchor": "y",
         "autorange": true,
         "domain": [
          0,
          1
         ],
         "range": [
          1991.5,
          2023.5
         ],
         "title": {
          "text": "année de découverte"
         },
         "type": "linear"
        },
        "yaxis": {
         "anchor": "x",
         "autorange": true,
         "domain": [
          0,
          1
         ],
         "range": [
          -0.17672142115481834,
          3.3577070019415483
         ],
         "title": {
          "text": "nombre de planetes"
         },
         "type": "log"
        }
       }
      },
      "image/png": "[encoded data removed]",
      "text/html": [
       "<div>                            <div id=\"b3a27aec-0cef-4eb1-9d61-b47a7e46741a\" class=\"plotly-graph-div\" style=\"height:720px; width:1100px;\"></div>            <script type=\"text/javascript\">                require([\"plotly\"], function(Plotly) {                    window.PLOTLYENV=window.PLOTLYENV || {};                                    if (document.getElementById(\"b3a27aec-0cef-4eb1-9d61-b47a7e46741a\")) {                    Plotly.newPlot(                        \"b3a27aec-0cef-4eb1-9d61-b47a7e46741a\",                        [{\"alignmentgroup\":\"True\",\"hovertemplate\":\"discoverymethod=Astrometry\\u003cbr\\u003eann\\u00e9e de d\\u00e9couverte=%{x}\\u003cbr\\u003enombre de planetes=%{y}\\u003cextra\\u003e\\u003c\\u002fextra\\u003e\",\"legendgroup\":\"Astrometry\",\"marker\":{\"color\":\"#1F77B4\",\"opacity\":0.9,\"pattern\":{\"shape\":\"\"}},\"name\":\"Astrometry\",\"offsetgroup\":\"Astrometry\",\"orientation\":\"v\",\"showlegend\":true,\"textposition\":\"auto\",\"x\":[2013,2022,2023],\"xaxis\":\"x\",\"y\":[1,1,1],\"yaxis\":\"y\",\"type\":\"bar\"},{\"alignmentgroup\":\"True\",\"hovertemplate\":\"discoverymethod=Disk Kinematics\\u003cbr\\u003eann\\u00e9e de d\\u00e9couverte=%{x}\\u003cbr\\u003enombre de planetes=%{y}\\u003cextra\\u003e\\u003c\\u002fextra\\u003e\",\"legendgroup\":\"Disk Kinematics\",\"marker\":{\"color\":\"#FF7F0E\",\"opacity\":0.9,\"pattern\":{\"shape\":\"\"}},\"name\":\"Disk Kinematics\",\"offsetgroup\":\"Disk Kinematics\",\"orientation\":\"v\",\"showlegend\":true,\"textposition\":\"auto\",\"x\":[2019],\"xaxis\":\"x\",\"y\":[1],\"yaxis\":\"y\",\"type\":\"bar\"},{\"alignmentgroup\":\"True\",\"hovertemplate\":\"discoverymethod=Eclipse Timing Variations\\u003cbr\\u003eann\\u00e9e de d\\u00e9couverte=%{x}\\u003cbr\\u003enombre de planetes=%{y}\\u003cextra\\u003e\\u003c\\u002fextra\\u003e\",\"legendgroup\":\"Eclipse Timing Variations\",\"marker\":{\"color\":\"#2CA02C\",\"opacity\":0.9,\"pattern\":{\"shape\":\"\"}},\"name\":\"Eclipse Timing Variations\",\"offsetgroup\":\"Eclipse Timing Variations\",\"orientation\":\"v\",\"showlegend\":true,\"textposition\":\"auto\",\"x\":[2009,2010,2011,2012,2015,2017,2018,2019,2022],\"xaxis\":\"x\",\"y\":[1,2,5,1,1,2,1,2,2],\"yaxis\":\"y\",\"type\":\"bar\"},{\"alignmentgroup\":\"True\",\"hovertemplate\":\"discoverymethod=Imaging\\u003cbr\\u003eann\\u00e9e de d\\u00e9couverte=%{x}\\u003cbr\\u003enombre de planetes=%{y}\\u003cextra\\u003e\\u003c\\u002fextra\\u003e\",\"legendgroup\":\"Imaging\",\"marker\":{\"color\":\"#D62728\",\"opacity\":0.9,\"pattern\":{\"shape\":\"\"}},\"name\":\"Imaging\",\"offsetgroup\":\"Imaging\",\"orientation\":\"v\",\"showlegend\":true,\"textposition\":\"auto\",\"x\":[2004,2005,2006,2007,2008,2010,2011,2012,2013,2014,2015,2016,2017,2018,2019,2020,2021,2022,2023],\"xaxis\":\"x\",\"y\":[3,1,4,1,7,6,2,2,7,2,5,2,1,1,4,2,8,4,7],\"yaxis\":\"y\",\"type\":\"bar\"},{\"alignmentgroup\":\"True\",\"hovertemplate\":\"discoverymethod=Microlensing\\u003cbr\\u003eann\\u00e9e de d\\u00e9couverte=%{x}\\u003cbr\\u003enombre de planetes=%{y}\\u003cextra\\u003e\\u003c\\u002fextra\\u003e\",\"legendgroup\":\"Microlensing\",\"marker\":{\"color\":\"#9467BD\",\"opacity\":0.9,\"pattern\":{\"shape\":\"\"}},\"name\":\"Microlensing\",\"offsetgroup\":\"Microlensing\",\"orientation\":\"v\",\"showlegend\":true,\"textposition\":\"auto\",\"x\":[2004,2005,2006,2008,2009,2010,2011,2012,2013,2014,2015,2016,2017,2018,2019,2020,2021,2022,2023],\"xaxis\":\"x\",\"y\":[1,2,1,4,2,2,1,7,5,6,4,10,9,21,14,20,21,51,24],\"yaxis\":\"y\",\"type\":\"bar\"},{\"alignmentgroup\":\"True\",\"hovertemplate\":\"discoverymethod=Orbital Brightness Modulation\\u003cbr\\u003eann\\u00e9e de d\\u00e9couverte=%{x}\\u003cbr\\u003enombre de planetes=%{y}\\u003cextra\\u003e\\u003c\\u002fextra\\u003e\",\"legendgroup\":\"Orbital Brightness Modulation\",\"marker\":{\"color\":\"#8C564B\",\"opacity\":0.9,\"pattern\":{\"shape\":\"\"}},\"name\":\"Orbital Brightness Modulation\",\"offsetgroup\":\"Orbital Brightness Modulation\",\"orientation\":\"v\",\"showlegend\":true,\"textposition\":\"auto\",\"x\":[2011,2013,2014,2021],\"xaxis\":\"x\",\"y\":[2,1,3,3],\"yaxis\":\"y\",\"type\":\"bar\"},{\"alignmentgroup\":\"True\",\"hovertemplate\":\"discoverymethod=Pulsar Timing\\u003cbr\\u003eann\\u00e9e de d\\u00e9couverte=%{x}\\u003cbr\\u003enombre de planetes=%{y}\\u003cextra\\u003e\\u003c\\u002fextra\\u003e\",\"legendgroup\":\"Pulsar Timing\",\"marker\":{\"color\":\"#E377C2\",\"opacity\":0.9,\"pattern\":{\"shape\":\"\"}},\"name\":\"Pulsar Timing\",\"offsetgroup\":\"Pulsar Timing\",\"orientation\":\"v\",\"showlegend\":true,\"textposition\":\"auto\",\"x\":[1992,1994,2003,2011,2017],\"xaxis\":\"x\",\"y\":[2,1,1,1,2],\"yaxis\":\"y\",\"type\":\"bar\"},{\"alignmentgroup\":\"True\",\"hovertemplate\":\"discoverymethod=Pulsation Timing Variations\\u003cbr\\u003eann\\u00e9e de d\\u00e9couverte=%{x}\\u003cbr\\u003enombre de planetes=%{y}\\u003cextra\\u003e\\u003c\\u002fextra\\u003e\",\"legendgroup\":\"Pulsation Timing Variations\",\"marker\":{\"color\":\"#7F7F7F\",\"opacity\":0.9,\"pattern\":{\"shape\":\"\"}},\"name\":\"Pulsation Timing Variations\",\"offsetgroup\":\"Pulsation Timing Variations\",\"orientation\":\"v\",\"showlegend\":true,\"textposition\":\"auto\",\"x\":[2007,2016],\"xaxis\":\"x\",\"y\":[1,1],\"yaxis\":\"y\",\"type\":\"bar\"},{\"alignmentgroup\":\"True\",\"hovertemplate\":\"discoverymethod=Radial Velocity\\u003cbr\\u003eann\\u00e9e de d\\u00e9couverte=%{x}\\u003cbr\\u003enombre de planetes=%{y}\\u003cextra\\u003e\\u003c\\u002fextra\\u003e\",\"legendgroup\":\"Radial Velocity\",\"marker\":{\"color\":\"#BCBD22\",\"opacity\":0.9,\"pattern\":{\"shape\":\"\"}},\"name\":\"Radial Velocity\",\"offsetgroup\":\"Radial Velocity\",\"orientation\":\"v\",\"showlegend\":true,\"textposition\":\"auto\",\"x\":[1995,1996,1997,1998,1999,2000,2001,2002,2003,2004,2005,2006,2007,2008,2009,2010,2011,2012,2013,2014,2015,2016,2017,2018,2019,2020,2021,2022,2023],\"xaxis\":\"x\",\"y\":[1,6,1,6,13,16,12,28,21,18,33,21,34,37,73,41,45,35,33,50,46,50,49,47,66,45,78,118,52],\"yaxis\":\"y\",\"type\":\"bar\"},{\"alignmentgroup\":\"True\",\"hovertemplate\":\"discoverymethod=Transit\\u003cbr\\u003eann\\u00e9e de d\\u00e9couverte=%{x}\\u003cbr\\u003enombre de planetes=%{y}\\u003cextra\\u003e\\u003c\\u002fextra\\u003e\",\"legendgroup\":\"Transit\",\"marker\":{\"color\":\"#17BECF\",\"opacity\":0.9,\"pattern\":{\"shape\":\"\"}},\"name\":\"Transit\",\"offsetgroup\":\"Transit\",\"orientation\":\"v\",\"showlegend\":true,\"textposition\":\"auto\",\"x\":[2002,2004,2006,2007,2008,2009,2010,2011,2012,2013,2014,2015,2016,2017,2018,2019,2020,2021,2022,2023],\"xaxis\":\"x\",\"y\":[1,5,5,16,17,18,46,79,93,80,802,100,1453,89,253,113,165,415,187,213],\"yaxis\":\"y\",\"type\":\"bar\"},{\"alignmentgroup\":\"True\",\"hovertemplate\":\"discoverymethod=Transit Timing Variations\\u003cbr\\u003eann\\u00e9e de d\\u00e9couverte=%{x}\\u003cbr\\u003enombre de planetes=%{y}\\u003cextra\\u003e\\u003c\\u002fextra\\u003e\",\"legendgroup\":\"Transit Timing Variations\",\"marker\":{\"color\":\"#1F77B4\",\"opacity\":0.9,\"pattern\":{\"shape\":\"\"}},\"name\":\"Transit Timing Variations\",\"offsetgroup\":\"Transit Timing Variations\",\"orientation\":\"v\",\"showlegend\":true,\"textposition\":\"auto\",\"x\":[2011,2012,2014,2016,2017,2018,2019,2020,2021,2022,2023],\"xaxis\":\"x\",\"y\":[1,1,12,1,1,1,3,1,1,2,4],\"yaxis\":\"y\",\"type\":\"bar\"}],                        {\"template\":{\"data\":{\"pie\":[{\"automargin\":true,\"type\":\"pie\"}]},\"layout\":{\"xaxis\":{\"showgrid\":true,\"title\":{\"standoff\":15}},\"yaxis\":{\"showgrid\":true,\"title\":{\"standoff\":15}}}},\"xaxis\":{\"anchor\":\"y\",\"domain\":[0.0,1.0],\"title\":{\"text\":\"ann\\u00e9e de d\\u00e9couverte\"}},\"yaxis\":{\"anchor\":\"x\",\"domain\":[0.0,1.0],\"title\":{\"text\":\"nombre de planetes\"},\"type\":\"log\"},\"legend\":{\"title\":{\"text\":\"discoverymethod\"},\"tracegroupgap\":0,\"x\":0,\"y\":1.0},\"title\":{\"text\":\"nombre et methode de decouvertes d'exoplanetes \"},\"barmode\":\"relative\",\"height\":720,\"width\":1100},                        {\"responsive\": true}                    ).then(function(){\n",
       "                            \n",
       "var gd = document.getElementById('b3a27aec-0cef-4eb1-9d61-b47a7e46741a');\n",
       "var x = new MutationObserver(function (mutations, observer) {{\n",
       "        var display = window.getComputedStyle(gd).display;\n",
       "        if (!display || display === 'none') {{\n",
       "            console.log([gd, 'removed!']);\n",
       "            Plotly.purge(gd);\n",
       "            observer.disconnect();\n",
       "        }}\n",
       "}});\n",
       "\n",
       "// Listen for the removal of the full notebook cells\n",
       "var notebookContainer = gd.closest('#notebook-container');\n",
       "if (notebookContainer) {{\n",
       "    x.observe(notebookContainer, {childList: true});\n",
       "}}\n",
       "\n",
       "// Listen for the clearing of the current output cell\n",
       "var outputEl = gd.closest('.output');\n",
       "if (outputEl) {{\n",
       "    x.observe(outputEl, {childList: true});\n",
       "}}\n",
       "\n",
       "                        })                };                });            </script>        </div>"
      ]
     },
     "metadata": {},
     "output_type": "display_data"
    }
   ],
   "source": [
    "barchart=px.bar(\n",
    "    data_frame = df9,\n",
    "    x= \"disc_year\",\n",
    "    y= \"pl\",\n",
    "    color=\"discoverymethod\",\n",
    "    opacity=0.9,\n",
    "    orientation=\"v\",\n",
    "    barmode=\"relative\",\n",
    "\n",
    "    labels={\"pl\":\"nombre de planetes\",\"disc_year\":\"année de découverte\"},\n",
    "    title=\"nombre et methode de decouvertes d'exoplanetes \",\n",
    "    width=1100,\n",
    "    height=720,\n",
    "    template=\"gridon\",\n",
    "\n",
    "    #facet_row=\"disc_year\",\n",
    "    #facet_col = \"discoverymethod\",\n",
    "    #facet_col_wrap = 3,\n",
    "    \n",
    "    log_y=True,\n",
    "\n",
    ")\n",
    "\n",
    "barchart.update_layout(legend={'x':0, 'y':1.0})\n",
    "\n",
    "barchart.show()"
   ]
  },
  {
   "cell_type": "code",
   "execution_count": null,
   "id": "bff332fc-d152-4a32-886d-8cd2b26ce855",
   "metadata": {},
   "outputs": [],
   "source": []
  }
 ],
 "metadata": {
  "kernelspec": {
   "display_name": "Python 3 (ipykernel)",
   "language": "python",
   "name": "python3"
  },
  "language_info": {
   "codemirror_mode": {
    "name": "ipython",
    "version": 3
   },
   "file_extension": ".py",
   "mimetype": "text/x-python",
   "name": "python",
   "nbconvert_exporter": "python",
   "pygments_lexer": "ipython3",
   "version": "3.11.5"
  }
 },
 "nbformat": 4,
 "nbformat_minor": 5
}
